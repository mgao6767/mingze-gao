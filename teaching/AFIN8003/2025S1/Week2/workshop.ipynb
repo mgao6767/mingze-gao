{
  "cells": [
    {
      "cell_type": "markdown",
      "metadata": {},
      "source": [
        "# AFIN8003 - Workshop 2\n",
        "\n",
        "Banking and Financial Intermediation\n",
        "\n",
        "Dr. Mingze Gao (Department of Applied Finance)  \n",
        "2025-03-13\n",
        "\n",
        "## 1 Introduction\n",
        "\n",
        "In today’s workshop, we will touch on some key aspects of bank\n",
        "accounting. We will use the Python package I developed, [BRMS (Bank Risk\n",
        "Management Simulation)](https://github.com/mgao6767/brms/), to have a\n",
        "hands-on experience of how a bank’s balance sheet is shaped by various\n",
        "transactions."
      ],
      "id": "c49c5546-3daf-4257-b08f-231269048a87"
    },
    {
      "cell_type": "code",
      "execution_count": 1,
      "metadata": {},
      "outputs": [
        {
          "output_type": "stream",
          "name": "stdout",
          "text": [
            "Requirement already satisfied: brms in c:\\users\\adrian gao\\appdata\\local\\programs\\python\\python312\\lib\\site-packages (0.1.0)\n",
            "Requirement already satisfied: pyside6==6.8.1 in c:\\users\\adrian gao\\appdata\\local\\programs\\python\\python312\\lib\\site-packages (from brms) (6.8.1)\n",
            "Requirement already satisfied: qtawesome>=1.3.1 in c:\\users\\adrian gao\\appdata\\local\\programs\\python\\python312\\lib\\site-packages (from brms) (1.3.1)\n",
            "Requirement already satisfied: quantlib>=1.36 in c:\\users\\adrian gao\\appdata\\local\\programs\\python\\python312\\lib\\site-packages (from brms) (1.36)\n",
            "Requirement already satisfied: rich>=13.9.4 in c:\\users\\adrian gao\\appdata\\local\\programs\\python\\python312\\lib\\site-packages (from brms) (13.9.4)\n",
            "Requirement already satisfied: shiboken6==6.8.1 in c:\\users\\adrian gao\\appdata\\local\\programs\\python\\python312\\lib\\site-packages (from pyside6==6.8.1->brms) (6.8.1)\n",
            "Requirement already satisfied: PySide6-Essentials==6.8.1 in c:\\users\\adrian gao\\appdata\\local\\programs\\python\\python312\\lib\\site-packages (from pyside6==6.8.1->brms) (6.8.1)\n",
            "Requirement already satisfied: PySide6-Addons==6.8.1 in c:\\users\\adrian gao\\appdata\\local\\programs\\python\\python312\\lib\\site-packages (from pyside6==6.8.1->brms) (6.8.1)\n",
            "Requirement already satisfied: qtpy in c:\\users\\adrian gao\\appdata\\local\\programs\\python\\python312\\lib\\site-packages (from qtawesome>=1.3.1->brms) (2.4.1)\n",
            "Requirement already satisfied: markdown-it-py>=2.2.0 in c:\\users\\adrian gao\\appdata\\local\\programs\\python\\python312\\lib\\site-packages (from rich>=13.9.4->brms) (3.0.0)\n",
            "Requirement already satisfied: pygments<3.0.0,>=2.13.0 in c:\\users\\adrian gao\\appdata\\local\\programs\\python\\python312\\lib\\site-packages (from rich>=13.9.4->brms) (2.18.0)\n",
            "Requirement already satisfied: mdurl~=0.1 in c:\\users\\adrian gao\\appdata\\local\\programs\\python\\python312\\lib\\site-packages (from markdown-it-py>=2.2.0->rich>=13.9.4->brms) (0.1.2)\n",
            "Requirement already satisfied: packaging in c:\\users\\adrian gao\\appdata\\local\\programs\\python\\python312\\lib\\site-packages (from qtpy->qtawesome>=1.3.1->brms) (24.1)"
          ]
        }
      ],
      "source": [
        "# @title Install brms. {display-mode: \"form\"}\n",
        "!pip install brms"
      ],
      "id": "61f817ba"
    },
    {
      "cell_type": "markdown",
      "metadata": {},
      "source": [
        "## 2 Simple banking book accounting\n",
        "\n",
        "To begin with, a simple bank has just been established with\n",
        "shareholders’ contribution of \\$10,000. Its balance sheet is shown as\n",
        "below."
      ],
      "id": "f379c071-66db-486e-ad6c-ffc4c52874e2"
    },
    {
      "cell_type": "code",
      "execution_count": 2,
      "metadata": {},
      "outputs": [
        {
          "output_type": "display_data",
          "metadata": {},
          "data": {
            "text/html": [
              "<pre style=\"white-space:pre;overflow-x:auto;line-height:normal;font-family:Menlo,'DejaVu Sans Mono',consolas,'Courier New',monospace\"><span style=\"font-style: italic\">                Balance Sheet                 </span>\n",
              " ──────────────────────────────────────────── \n",
              " <span style=\"font-weight: bold\"> Assets                        </span> <span style=\"color: #008000; text-decoration-color: #008000; font-weight: bold\">            </span> \n",
              "    Cash and Cash Equivalents    <span style=\"color: #008000; text-decoration-color: #008000\"> $10,000.00 </span> \n",
              " <span style=\"font-weight: bold\"> Total assets                  </span> <span style=\"color: #008000; text-decoration-color: #008000; font-weight: bold\"> $10,000.00 </span> \n",
              " ──────────────────────────────────────────── \n",
              " <span style=\"font-weight: bold\"> Liabilities                   </span> <span style=\"color: #008000; text-decoration-color: #008000; font-weight: bold\">            </span> \n",
              " <span style=\"font-weight: bold\"> Total liabilities             </span> <span style=\"color: #008000; text-decoration-color: #008000; font-weight: bold\">      $0.00 </span> \n",
              " ──────────────────────────────────────────── \n",
              " <span style=\"font-weight: bold\"> Net assets                    </span> <span style=\"color: #008000; text-decoration-color: #008000; font-weight: bold\"> $10,000.00 </span> \n",
              " ──────────────────────────────────────────── \n",
              " <span style=\"font-weight: bold\"> Shareholders' equity          </span> <span style=\"color: #008000; text-decoration-color: #008000; font-weight: bold\">            </span> \n",
              "    Shareholders' Equity         <span style=\"color: #008000; text-decoration-color: #008000\"> $10,000.00 </span> \n",
              " <span style=\"font-weight: bold\"> Total shareholders' equity    </span> <span style=\"color: #008000; text-decoration-color: #008000; font-weight: bold\"> $10,000.00 </span> \n",
              " ──────────────────────────────────────────── \n",
              "<span style=\"color: #7f7f7f; text-decoration-color: #7f7f7f; font-style: italic\">                              Date: 2025-01-20</span>\n",
              "</pre>"
            ]
          }
        }
      ],
      "source": [
        "# For Google Colab:\n",
        "# @title A new bank has just been established. {display-mode: \"form\"}\n",
        "import datetime\n",
        "from brms.accounting.account import AccountBalances\n",
        "from brms.accounting.report import Report\n",
        "from brms.accounting.statement_viewer import HTMLStatementViewer\n",
        "from brms.models.bank import Bank\n",
        "\n",
        "\n",
        "bank = Bank()\n",
        "balances = AccountBalances(\n",
        "    {\n",
        "        bank.chart_of_accounts.cash_account: 10_000,\n",
        "        bank.chart_of_accounts.equity_account: 10_000,\n",
        "    },\n",
        ")\n",
        "bank.initialize(balances)\n",
        "viewer = HTMLStatementViewer(jupyter=True, hide_zero_balance_accounts=True)\n",
        "\n",
        "today = datetime.date(2025, 1, 20)\n",
        "report = Report(ledger=bank.ledger, viewer=viewer, date=today)\n",
        "report.print_balance_sheet()"
      ],
      "id": "88cf2f5b"
    },
    {
      "cell_type": "markdown",
      "metadata": {},
      "source": [
        "### 2.1 Customer deposit\n",
        "\n",
        "Now some customers have made some deposits, for example:\n",
        "\n",
        "-   Customer A deposits \\$60,000.\n",
        "-   Customer B deposits \\$40,000.\n",
        "-   Customer C deposits \\$20,000.\n",
        "\n",
        "Notably, customer deposits are the bank’s *liability*. We see an\n",
        "increase in both the bank’s total assets and total liabilities, while\n",
        "total shareholders’ equity remains unchanged."
      ],
      "id": "b332407b-2b38-4acf-80ee-ee9efa281558"
    },
    {
      "cell_type": "code",
      "execution_count": 3,
      "metadata": {},
      "outputs": [
        {
          "output_type": "display_data",
          "metadata": {},
          "data": {
            "text/html": [
              "<pre style=\"white-space:pre;overflow-x:auto;line-height:normal;font-family:Menlo,'DejaVu Sans Mono',consolas,'Courier New',monospace\"><span style=\"font-style: italic\">                      Balance Sheet                       </span>\n",
              " ──────────────────────────────────────────────────────── \n",
              " <span style=\"font-weight: bold\"> Assets                                   </span> <span style=\"color: #008000; text-decoration-color: #008000; font-weight: bold\">             </span> \n",
              "    Cash and Cash Equivalents               <span style=\"color: #008000; text-decoration-color: #008000\"> $130,000.00 </span> \n",
              " <span style=\"font-weight: bold\"> Total assets                             </span> <span style=\"color: #008000; text-decoration-color: #008000; font-weight: bold\"> $130,000.00 </span> \n",
              " ──────────────────────────────────────────────────────── \n",
              " <span style=\"font-weight: bold\"> Liabilities                              </span> <span style=\"color: #008000; text-decoration-color: #008000; font-weight: bold\">             </span> \n",
              "    Deposits and Other Public Borrowings    <span style=\"color: #008000; text-decoration-color: #008000\"> $120,000.00 </span> \n",
              "      Deposits                              <span style=\"color: #008000; text-decoration-color: #008000\"> $120,000.00 </span> \n",
              " <span style=\"font-weight: bold\"> Total liabilities                        </span> <span style=\"color: #008000; text-decoration-color: #008000; font-weight: bold\"> $120,000.00 </span> \n",
              " ──────────────────────────────────────────────────────── \n",
              " <span style=\"font-weight: bold\"> Net assets                               </span> <span style=\"color: #008000; text-decoration-color: #008000; font-weight: bold\">  $10,000.00 </span> \n",
              " ──────────────────────────────────────────────────────── \n",
              " <span style=\"font-weight: bold\"> Shareholders' equity                     </span> <span style=\"color: #008000; text-decoration-color: #008000; font-weight: bold\">             </span> \n",
              "    Shareholders' Equity                    <span style=\"color: #008000; text-decoration-color: #008000\">  $10,000.00 </span> \n",
              " <span style=\"font-weight: bold\"> Total shareholders' equity               </span> <span style=\"color: #008000; text-decoration-color: #008000; font-weight: bold\">  $10,000.00 </span> \n",
              " ──────────────────────────────────────────────────────── \n",
              "<span style=\"color: #7f7f7f; text-decoration-color: #7f7f7f; font-style: italic\">                                          Date: 2025-01-20</span>\n",
              "</pre>"
            ]
          }
        }
      ],
      "source": [
        "# For Google Colab:\n",
        "# @title Some customers have made deposits. {display-mode: \"form\"}\n",
        "from brms.instruments.factory import InstrumentFactory\n",
        "from brms.models.transaction import TransactionFactory, TransactionType\n",
        "\n",
        "customer_A_deposit = InstrumentFactory.create_deposit(value=60_000)\n",
        "customer_B_deposit = InstrumentFactory.create_deposit(value=40_000)\n",
        "customer_C_deposit = InstrumentFactory.create_deposit(value=20_000)\n",
        "tx_deposit1 = TransactionFactory.create_transaction(\n",
        "    bank=bank,\n",
        "    transaction_type=TransactionType.DEPOSIT_RECEIVED,\n",
        "    instrument=customer_A_deposit,\n",
        "    transaction_date=today,\n",
        "    description=\"Customer A's Deposits\",\n",
        ")\n",
        "tx_deposit2 = TransactionFactory.create_transaction(\n",
        "    bank=bank,\n",
        "    transaction_type=TransactionType.DEPOSIT_RECEIVED,\n",
        "    instrument=customer_B_deposit,\n",
        "    transaction_date=today,\n",
        "    description=\"Customer B's Deposits\",\n",
        ")\n",
        "tx_deposit3 = TransactionFactory.create_transaction(\n",
        "    bank=bank,\n",
        "    transaction_type=TransactionType.DEPOSIT_RECEIVED,\n",
        "    instrument=customer_C_deposit,\n",
        "    transaction_date=today,\n",
        "    description=\"Customer C's Deposits\",\n",
        ")\n",
        "bank.process_transaction(tx_deposit1)\n",
        "bank.process_transaction(tx_deposit2)\n",
        "bank.process_transaction(tx_deposit3)\n",
        "\n",
        "report = Report(ledger=bank.ledger, viewer=viewer, date=today)\n",
        "report.print_balance_sheet()"
      ],
      "id": "a2f61994"
    },
    {
      "cell_type": "markdown",
      "metadata": {},
      "source": [
        "### 2.2 Deposit withdraw\n",
        "\n",
        "Depositors can also withdraw from the bank. If Customer C has withdrawn\n",
        "all of their deposits, we see a decrease of cash and deposits."
      ],
      "id": "c44d572d-cd74-4e7b-a181-c04fc1359c5c"
    },
    {
      "cell_type": "code",
      "execution_count": 4,
      "metadata": {},
      "outputs": [
        {
          "output_type": "display_data",
          "metadata": {},
          "data": {
            "text/html": [
              "<pre style=\"white-space:pre;overflow-x:auto;line-height:normal;font-family:Menlo,'DejaVu Sans Mono',consolas,'Courier New',monospace\"><span style=\"font-style: italic\">                      Balance Sheet                       </span>\n",
              " ──────────────────────────────────────────────────────── \n",
              " <span style=\"font-weight: bold\"> Assets                                   </span> <span style=\"color: #008000; text-decoration-color: #008000; font-weight: bold\">             </span> \n",
              "    Cash and Cash Equivalents               <span style=\"color: #008000; text-decoration-color: #008000\"> $110,000.00 </span> \n",
              " <span style=\"font-weight: bold\"> Total assets                             </span> <span style=\"color: #008000; text-decoration-color: #008000; font-weight: bold\"> $110,000.00 </span> \n",
              " ──────────────────────────────────────────────────────── \n",
              " <span style=\"font-weight: bold\"> Liabilities                              </span> <span style=\"color: #008000; text-decoration-color: #008000; font-weight: bold\">             </span> \n",
              "    Deposits and Other Public Borrowings    <span style=\"color: #008000; text-decoration-color: #008000\"> $100,000.00 </span> \n",
              "      Deposits                              <span style=\"color: #008000; text-decoration-color: #008000\"> $100,000.00 </span> \n",
              " <span style=\"font-weight: bold\"> Total liabilities                        </span> <span style=\"color: #008000; text-decoration-color: #008000; font-weight: bold\"> $100,000.00 </span> \n",
              " ──────────────────────────────────────────────────────── \n",
              " <span style=\"font-weight: bold\"> Net assets                               </span> <span style=\"color: #008000; text-decoration-color: #008000; font-weight: bold\">  $10,000.00 </span> \n",
              " ──────────────────────────────────────────────────────── \n",
              " <span style=\"font-weight: bold\"> Shareholders' equity                     </span> <span style=\"color: #008000; text-decoration-color: #008000; font-weight: bold\">             </span> \n",
              "    Shareholders' Equity                    <span style=\"color: #008000; text-decoration-color: #008000\">  $10,000.00 </span> \n",
              " <span style=\"font-weight: bold\"> Total shareholders' equity               </span> <span style=\"color: #008000; text-decoration-color: #008000; font-weight: bold\">  $10,000.00 </span> \n",
              " ──────────────────────────────────────────────────────── \n",
              "<span style=\"color: #7f7f7f; text-decoration-color: #7f7f7f; font-style: italic\">                                          Date: 2025-01-20</span>\n",
              "</pre>"
            ]
          }
        }
      ],
      "source": [
        "# For Google Colab:\n",
        "# @title Customer C has withdrawn their deposits. {display-mode: \"form\"}\n",
        "from brms.models.transaction import DepositWithdrawTransaction\n",
        "\n",
        "tx_deposit_withdraw = TransactionFactory.create_transaction(\n",
        "    bank=bank,\n",
        "    transaction_type=TransactionType.DEPOSIT_WITHDRAWAL,\n",
        "    instrument=customer_C_deposit,\n",
        "    transaction_date=today,\n",
        "    description=\"Customer C withdraw\",\n",
        ")\n",
        "bank.process_transaction(tx_deposit_withdraw)\n",
        "\n",
        "report = Report(ledger=bank.ledger, viewer=viewer, date=today)\n",
        "report.print_balance_sheet()"
      ],
      "id": "940e57de"
    },
    {
      "cell_type": "markdown",
      "metadata": {},
      "source": [
        "### 2.3 Loan disbursement\n",
        "\n",
        "Of course, the typical business of a bank is to make loans. Let’s assume\n",
        "the bank has made an (interest-only) loan of \\$80,000 to some borrowers."
      ],
      "id": "2262e4fc-9c75-4893-b805-9c21aba5cdaa"
    },
    {
      "cell_type": "code",
      "execution_count": 5,
      "metadata": {},
      "outputs": [
        {
          "output_type": "display_data",
          "metadata": {},
          "data": {
            "text/html": [
              "<pre style=\"white-space:pre;overflow-x:auto;line-height:normal;font-family:Menlo,'DejaVu Sans Mono',consolas,'Courier New',monospace\"><span style=\"font-style: italic\">                      Balance Sheet                       </span>\n",
              " ──────────────────────────────────────────────────────── \n",
              " <span style=\"font-weight: bold\"> Assets                                   </span> <span style=\"color: #008000; text-decoration-color: #008000; font-weight: bold\">             </span> \n",
              "    Cash and Cash Equivalents               <span style=\"color: #008000; text-decoration-color: #008000\">  $30,000.00 </span> \n",
              "    Loans and Advances                      <span style=\"color: #008000; text-decoration-color: #008000\">  $80,000.00 </span> \n",
              " <span style=\"font-weight: bold\"> Total assets                             </span> <span style=\"color: #008000; text-decoration-color: #008000; font-weight: bold\"> $110,000.00 </span> \n",
              " ──────────────────────────────────────────────────────── \n",
              " <span style=\"font-weight: bold\"> Liabilities                              </span> <span style=\"color: #008000; text-decoration-color: #008000; font-weight: bold\">             </span> \n",
              "    Deposits and Other Public Borrowings    <span style=\"color: #008000; text-decoration-color: #008000\"> $100,000.00 </span> \n",
              "      Deposits                              <span style=\"color: #008000; text-decoration-color: #008000\"> $100,000.00 </span> \n",
              " <span style=\"font-weight: bold\"> Total liabilities                        </span> <span style=\"color: #008000; text-decoration-color: #008000; font-weight: bold\"> $100,000.00 </span> \n",
              " ──────────────────────────────────────────────────────── \n",
              " <span style=\"font-weight: bold\"> Net assets                               </span> <span style=\"color: #008000; text-decoration-color: #008000; font-weight: bold\">  $10,000.00 </span> \n",
              " ──────────────────────────────────────────────────────── \n",
              " <span style=\"font-weight: bold\"> Shareholders' equity                     </span> <span style=\"color: #008000; text-decoration-color: #008000; font-weight: bold\">             </span> \n",
              "    Shareholders' Equity                    <span style=\"color: #008000; text-decoration-color: #008000\">  $10,000.00 </span> \n",
              " <span style=\"font-weight: bold\"> Total shareholders' equity               </span> <span style=\"color: #008000; text-decoration-color: #008000; font-weight: bold\">  $10,000.00 </span> \n",
              " ──────────────────────────────────────────────────────── \n",
              "<span style=\"color: #7f7f7f; text-decoration-color: #7f7f7f; font-style: italic\">                                          Date: 2025-01-20</span>\n",
              "</pre>"
            ]
          }
        }
      ],
      "source": [
        "# For Google Colab:\n",
        "# @title The bank has made some loans. {display-mode: \"form\"}\n",
        "from brms.instruments.base import Instrument\n",
        "from brms.instruments.mock import MockInstrument\n",
        "from brms.models.transaction import LoanDisbursementTransaction\n",
        "\n",
        "(loan := MockInstrument(\"A loan\")).value = 80_000\n",
        "# fmt: off\n",
        "tx_loan = TransactionFactory.create_transaction(\n",
        "    bank=bank,\n",
        "    transaction_type=TransactionType.LOAN_DISBURSEMENT,\n",
        "    instrument=loan,\n",
        "    transaction_date=today,\n",
        "    description=\"Loan made to a borrower\",\n",
        ")\n",
        "# fmt: on\n",
        "bank.process_transaction(tx_loan)\n",
        "\n",
        "report = Report(ledger=bank.ledger, viewer=viewer, date=today)\n",
        "report.print_balance_sheet()"
      ],
      "id": "b78ff98a"
    },
    {
      "cell_type": "markdown",
      "metadata": {},
      "source": [
        "### 2.4 Interest paid on deposits\n",
        "\n",
        "After some time (e.g., a month), the bank may need to pay interest on\n",
        "customers’ deposits, e.g., \\$100.\n",
        "\n",
        "> **Tip**\n",
        ">\n",
        "> **Income Statement** is included given that we’d like to know the\n",
        "> profit and loss (P&L) of the bank over the period."
      ],
      "id": "f159ce78-e874-48b0-bc1c-ac6365f9d30b"
    },
    {
      "cell_type": "code",
      "execution_count": 6,
      "metadata": {},
      "outputs": [
        {
          "output_type": "display_data",
          "metadata": {},
          "data": {
            "text/html": [
              "<pre style=\"white-space:pre;overflow-x:auto;line-height:normal;font-family:Menlo,'DejaVu Sans Mono',consolas,'Courier New',monospace\"><span style=\"font-style: italic\">          Income Statement          </span>\n",
              " ────────────────────────────────── \n",
              " <span style=\"font-weight: bold\"> Income               </span> <span style=\"color: #008000; text-decoration-color: #008000; font-weight: bold\">     $0.00 </span> \n",
              " ────────────────────────────────── \n",
              " <span style=\"font-weight: bold\"> Expense              </span> <span style=\"color: #008000; text-decoration-color: #008000; font-weight: bold\">   $100.00 </span> \n",
              "    Interest Expense    <span style=\"color: #008000; text-decoration-color: #008000\">   $100.00 </span> \n",
              " ────────────────────────────────── \n",
              " <span style=\"font-weight: bold\"> Profit               </span> <span style=\"color: #008000; text-decoration-color: #008000; font-weight: bold\"> </span><span style=\"color: #800000; text-decoration-color: #800000; font-weight: bold\">($100.00)</span><span style=\"color: #008000; text-decoration-color: #008000; font-weight: bold\"> </span> \n",
              " ────────────────────────────────── \n",
              "<span style=\"color: #7f7f7f; text-decoration-color: #7f7f7f; font-style: italic\">                    Date: 2025-02-20</span>\n",
              "</pre>"
            ]
          }
        },
        {
          "output_type": "stream",
          "name": "stdout",
          "text": [
            "--------------------------------------------------------------------------------"
          ]
        },
        {
          "output_type": "display_data",
          "metadata": {},
          "data": {
            "text/html": [
              "<pre style=\"white-space:pre;overflow-x:auto;line-height:normal;font-family:Menlo,'DejaVu Sans Mono',consolas,'Courier New',monospace\"><span style=\"font-style: italic\">                      Balance Sheet                       </span>\n",
              " ──────────────────────────────────────────────────────── \n",
              " <span style=\"font-weight: bold\"> Assets                                   </span> <span style=\"color: #008000; text-decoration-color: #008000; font-weight: bold\">             </span> \n",
              "    Cash and Cash Equivalents               <span style=\"color: #008000; text-decoration-color: #008000\">  $29,900.00 </span> \n",
              "    Loans and Advances                      <span style=\"color: #008000; text-decoration-color: #008000\">  $80,000.00 </span> \n",
              " <span style=\"font-weight: bold\"> Total assets                             </span> <span style=\"color: #008000; text-decoration-color: #008000; font-weight: bold\"> $109,900.00 </span> \n",
              " ──────────────────────────────────────────────────────── \n",
              " <span style=\"font-weight: bold\"> Liabilities                              </span> <span style=\"color: #008000; text-decoration-color: #008000; font-weight: bold\">             </span> \n",
              "    Deposits and Other Public Borrowings    <span style=\"color: #008000; text-decoration-color: #008000\"> $100,000.00 </span> \n",
              "      Deposits                              <span style=\"color: #008000; text-decoration-color: #008000\"> $100,000.00 </span> \n",
              " <span style=\"font-weight: bold\"> Total liabilities                        </span> <span style=\"color: #008000; text-decoration-color: #008000; font-weight: bold\"> $100,000.00 </span> \n",
              " ──────────────────────────────────────────────────────── \n",
              " <span style=\"font-weight: bold\"> Net assets                               </span> <span style=\"color: #008000; text-decoration-color: #008000; font-weight: bold\">   $9,900.00 </span> \n",
              " ──────────────────────────────────────────────────────── \n",
              " <span style=\"font-weight: bold\"> Shareholders' equity                     </span> <span style=\"color: #008000; text-decoration-color: #008000; font-weight: bold\">             </span> \n",
              "    Shareholders' Equity                    <span style=\"color: #008000; text-decoration-color: #008000\">  $10,000.00 </span> \n",
              "    Retained Earnings                       <span style=\"color: #008000; text-decoration-color: #008000\"> </span><span style=\"color: #800000; text-decoration-color: #800000\">  ($100.00)</span><span style=\"color: #008000; text-decoration-color: #008000\"> </span> \n",
              " <span style=\"font-weight: bold\"> Total shareholders' equity               </span> <span style=\"color: #008000; text-decoration-color: #008000; font-weight: bold\">   $9,900.00 </span> \n",
              " ──────────────────────────────────────────────────────── \n",
              "<span style=\"color: #7f7f7f; text-decoration-color: #7f7f7f; font-style: italic\">                                          Date: 2025-02-20</span>\n",
              "</pre>"
            ]
          }
        }
      ],
      "source": [
        "# For Google Colab:\n",
        "# @title If the bank has only paid interest on deposits over the month... {display-mode: \"form\"}\n",
        "from brms.instruments.cash import Cash\n",
        "from brms.models.transaction import InterestPaidOnDepositTransaction\n",
        "\n",
        "today = today + datetime.timedelta(days=31)\n",
        "\n",
        "tx_interest_paid = TransactionFactory.create_transaction(\n",
        "    bank=bank,\n",
        "    transaction_type=TransactionType.INTEREST_PAID_ON_DEPOSIT,\n",
        "    instrument=Cash(value=100),\n",
        "    transaction_date=today,\n",
        "    description=\"Interest paid on deposits\",\n",
        ")\n",
        "bank.process_transaction(tx_interest_paid)\n",
        "\n",
        "report = Report(ledger=bank.ledger, viewer=viewer, date=today)\n",
        "report.print_income_statement()\n",
        "print(\"-\" * 80)\n",
        "report.print_balance_sheet()"
      ],
      "id": "57798175"
    },
    {
      "cell_type": "markdown",
      "metadata": {},
      "source": [
        "If the bank has only paid interest on deposits over this period, it\n",
        "surely has a net loss or negative profit as shown above. However, it is\n",
        "more reasonable that the bank also has earned some profits during the\n",
        "same time, especially because it has made some loans.\n",
        "\n",
        "### 2.5 Loan interest income\n",
        "\n",
        "Suppose that over the 1-month period, the bank has earned some interest\n",
        "income from the loans made earlier, e.g., for a total of \\$800."
      ],
      "id": "732443fd-f44e-48cb-a564-124e7b8b19f4"
    },
    {
      "cell_type": "code",
      "execution_count": 7,
      "metadata": {},
      "outputs": [
        {
          "output_type": "display_data",
          "metadata": {},
          "data": {
            "text/html": [
              "<pre style=\"white-space:pre;overflow-x:auto;line-height:normal;font-family:Menlo,'DejaVu Sans Mono',consolas,'Courier New',monospace\"><span style=\"font-style: italic\">         Income Statement         </span>\n",
              " ──────────────────────────────── \n",
              " <span style=\"font-weight: bold\"> Income               </span> <span style=\"color: #008000; text-decoration-color: #008000; font-weight: bold\"> $800.00 </span> \n",
              "    Interest Income     <span style=\"color: #008000; text-decoration-color: #008000\"> $800.00 </span> \n",
              " ──────────────────────────────── \n",
              " <span style=\"font-weight: bold\"> Expense              </span> <span style=\"color: #008000; text-decoration-color: #008000; font-weight: bold\"> $100.00 </span> \n",
              "    Interest Expense    <span style=\"color: #008000; text-decoration-color: #008000\"> $100.00 </span> \n",
              " ──────────────────────────────── \n",
              " <span style=\"font-weight: bold\"> Profit               </span> <span style=\"color: #008000; text-decoration-color: #008000; font-weight: bold\"> $700.00 </span> \n",
              " ──────────────────────────────── \n",
              "<span style=\"color: #7f7f7f; text-decoration-color: #7f7f7f; font-style: italic\">                  Date: 2025-02-20</span>\n",
              "</pre>"
            ]
          }
        },
        {
          "output_type": "stream",
          "name": "stdout",
          "text": [
            "--------------------------------------------------------------------------------"
          ]
        },
        {
          "output_type": "display_data",
          "metadata": {},
          "data": {
            "text/html": [
              "<pre style=\"white-space:pre;overflow-x:auto;line-height:normal;font-family:Menlo,'DejaVu Sans Mono',consolas,'Courier New',monospace\"><span style=\"font-style: italic\">                      Balance Sheet                       </span>\n",
              " ──────────────────────────────────────────────────────── \n",
              " <span style=\"font-weight: bold\"> Assets                                   </span> <span style=\"color: #008000; text-decoration-color: #008000; font-weight: bold\">             </span> \n",
              "    Cash and Cash Equivalents               <span style=\"color: #008000; text-decoration-color: #008000\">  $30,700.00 </span> \n",
              "    Loans and Advances                      <span style=\"color: #008000; text-decoration-color: #008000\">  $80,000.00 </span> \n",
              " <span style=\"font-weight: bold\"> Total assets                             </span> <span style=\"color: #008000; text-decoration-color: #008000; font-weight: bold\"> $110,700.00 </span> \n",
              " ──────────────────────────────────────────────────────── \n",
              " <span style=\"font-weight: bold\"> Liabilities                              </span> <span style=\"color: #008000; text-decoration-color: #008000; font-weight: bold\">             </span> \n",
              "    Deposits and Other Public Borrowings    <span style=\"color: #008000; text-decoration-color: #008000\"> $100,000.00 </span> \n",
              "      Deposits                              <span style=\"color: #008000; text-decoration-color: #008000\"> $100,000.00 </span> \n",
              " <span style=\"font-weight: bold\"> Total liabilities                        </span> <span style=\"color: #008000; text-decoration-color: #008000; font-weight: bold\"> $100,000.00 </span> \n",
              " ──────────────────────────────────────────────────────── \n",
              " <span style=\"font-weight: bold\"> Net assets                               </span> <span style=\"color: #008000; text-decoration-color: #008000; font-weight: bold\">  $10,700.00 </span> \n",
              " ──────────────────────────────────────────────────────── \n",
              " <span style=\"font-weight: bold\"> Shareholders' equity                     </span> <span style=\"color: #008000; text-decoration-color: #008000; font-weight: bold\">             </span> \n",
              "    Shareholders' Equity                    <span style=\"color: #008000; text-decoration-color: #008000\">  $10,000.00 </span> \n",
              "    Retained Earnings                       <span style=\"color: #008000; text-decoration-color: #008000\">     $700.00 </span> \n",
              " <span style=\"font-weight: bold\"> Total shareholders' equity               </span> <span style=\"color: #008000; text-decoration-color: #008000; font-weight: bold\">  $10,700.00 </span> \n",
              " ──────────────────────────────────────────────────────── \n",
              "<span style=\"color: #7f7f7f; text-decoration-color: #7f7f7f; font-style: italic\">                                          Date: 2025-02-20</span>\n",
              "</pre>"
            ]
          }
        }
      ],
      "source": [
        "# For Google Colab:\n",
        "# @title ... if the bank has also earned interest from loans over the month. {display-mode: \"form\"}\n",
        "tx_interest_earned = TransactionFactory.create_transaction(\n",
        "    bank=bank,\n",
        "    transaction_type=TransactionType.LOAN_INTEREST_PAYMENT,\n",
        "    instrument=Cash(value=800),\n",
        "    transaction_date=today,\n",
        "    description=\"Interest earned from loans\",\n",
        ")\n",
        "bank.process_transaction(tx_interest_earned)\n",
        "\n",
        "report = Report(ledger=bank.ledger, viewer=viewer, date=today)\n",
        "report.print_income_statement()\n",
        "print(\"-\" * 80)\n",
        "report.print_balance_sheet()"
      ],
      "id": "066d19c5"
    },
    {
      "cell_type": "markdown",
      "metadata": {},
      "source": [
        "Overall, the bank has a net profit of \\$700. We can observe that the\n",
        "bank’s **Retained Earnings** has increased by \\$700, too.\n",
        "\n",
        "## 3 Intermediate trading book accounting\n",
        "\n",
        "Those transactions and non-transactions above all occur to the bank’s\n",
        "**banking book**.\n",
        "\n",
        "However, a bank also has a **trading book** that holds securities for\n",
        "short-term trading P&L purposes. These instruments are named **Fair\n",
        "Value Through Profit and Loss (FVTPL)**.\n",
        "\n",
        "Accounting for trading book securities is relatively easy.\n",
        "\n",
        "### 3.1 FVTPL security purchase\n",
        "\n",
        "Assume that the bank just purchased a FVTPL security for its trading\n",
        "book at its fair value of \\$10,000."
      ],
      "id": "9327f4cf-a588-4dba-ae02-9e9a5102be60"
    },
    {
      "cell_type": "code",
      "execution_count": 8,
      "metadata": {},
      "outputs": [
        {
          "output_type": "display_data",
          "metadata": {},
          "data": {
            "text/html": [
              "<pre style=\"white-space:pre;overflow-x:auto;line-height:normal;font-family:Menlo,'DejaVu Sans Mono',consolas,'Courier New',monospace\"><span style=\"font-style: italic\">                      Balance Sheet                       </span>\n",
              " ──────────────────────────────────────────────────────── \n",
              " <span style=\"font-weight: bold\"> Assets                                   </span> <span style=\"color: #008000; text-decoration-color: #008000; font-weight: bold\">             </span> \n",
              "    Cash and Cash Equivalents               <span style=\"color: #008000; text-decoration-color: #008000\">  $20,700.00 </span> \n",
              "    Loans and Advances                      <span style=\"color: #008000; text-decoration-color: #008000\">  $80,000.00 </span> \n",
              "    Assets at FVTPL                         <span style=\"color: #008000; text-decoration-color: #008000\">  $10,000.00 </span> \n",
              " <span style=\"font-weight: bold\"> Total assets                             </span> <span style=\"color: #008000; text-decoration-color: #008000; font-weight: bold\"> $110,700.00 </span> \n",
              " ──────────────────────────────────────────────────────── \n",
              " <span style=\"font-weight: bold\"> Liabilities                              </span> <span style=\"color: #008000; text-decoration-color: #008000; font-weight: bold\">             </span> \n",
              "    Deposits and Other Public Borrowings    <span style=\"color: #008000; text-decoration-color: #008000\"> $100,000.00 </span> \n",
              "      Deposits                              <span style=\"color: #008000; text-decoration-color: #008000\"> $100,000.00 </span> \n",
              " <span style=\"font-weight: bold\"> Total liabilities                        </span> <span style=\"color: #008000; text-decoration-color: #008000; font-weight: bold\"> $100,000.00 </span> \n",
              " ──────────────────────────────────────────────────────── \n",
              " <span style=\"font-weight: bold\"> Net assets                               </span> <span style=\"color: #008000; text-decoration-color: #008000; font-weight: bold\">  $10,700.00 </span> \n",
              " ──────────────────────────────────────────────────────── \n",
              " <span style=\"font-weight: bold\"> Shareholders' equity                     </span> <span style=\"color: #008000; text-decoration-color: #008000; font-weight: bold\">             </span> \n",
              "    Shareholders' Equity                    <span style=\"color: #008000; text-decoration-color: #008000\">  $10,000.00 </span> \n",
              "    Retained Earnings                       <span style=\"color: #008000; text-decoration-color: #008000\">     $700.00 </span> \n",
              " <span style=\"font-weight: bold\"> Total shareholders' equity               </span> <span style=\"color: #008000; text-decoration-color: #008000; font-weight: bold\">  $10,700.00 </span> \n",
              " ──────────────────────────────────────────────────────── \n",
              "<span style=\"color: #7f7f7f; text-decoration-color: #7f7f7f; font-style: italic\">                                          Date: 2025-02-20</span>\n",
              "</pre>"
            ]
          }
        }
      ],
      "source": [
        "# For Google Colab:\n",
        "# @title The bank has purchased some FVTPL securities. {display-mode: \"form\"}\n",
        "from brms.models.base import BookType\n",
        "\n",
        "fvtpl_security = MockInstrument(\"A FVTPL Security\", BookType.TRADING_BOOK)\n",
        "fvtpl_security.value = 1_0000\n",
        "tx_fvtpl_purchase = TransactionFactory.create_transaction(\n",
        "    bank=bank,\n",
        "    transaction_type=TransactionType.SECURITY_PURCHASE_TRADING,\n",
        "    instrument=fvtpl_security,\n",
        "    transaction_date=today,\n",
        "    description=\"Purchase a FVTPL security\",\n",
        ")\n",
        "bank.process_transaction(tx_fvtpl_purchase)\n",
        "\n",
        "report = Report(ledger=bank.ledger, viewer=viewer, date=today)\n",
        "report.print_balance_sheet()"
      ],
      "id": "f722c98a"
    },
    {
      "cell_type": "markdown",
      "metadata": {},
      "source": [
        "The fair value of the security is recorded on the balance sheet under\n",
        "the *Assets at FVTPL* account.\n",
        "\n",
        "### 3.2 FVTPL security marking to market\n",
        "\n",
        "The *fair value* of FVTPL security is *marked to market* periodically,\n",
        "e.g., daily. This ensures consistency in that they are held for trading\n",
        "P&N in the first place.\n",
        "\n",
        "#### 3.2.1 Unrealized trading loss\n",
        "\n",
        "If the market value of the security went down by 5% (\\$500) the next\n",
        "day, we need to recognize this *unrealized trading loss* in the Income\n",
        "Statement."
      ],
      "id": "b2542db8-c741-43d7-82de-242e3e0e9f94"
    },
    {
      "cell_type": "code",
      "execution_count": 9,
      "metadata": {},
      "outputs": [
        {
          "output_type": "display_data",
          "metadata": {},
          "data": {
            "text/html": [
              "<pre style=\"white-space:pre;overflow-x:auto;line-height:normal;font-family:Menlo,'DejaVu Sans Mono',consolas,'Courier New',monospace\"><span style=\"font-style: italic\">               Income Statement                </span>\n",
              " ───────────────────────────────────────────── \n",
              " <span style=\"font-weight: bold\"> Income                          </span> <span style=\"color: #008000; text-decoration-color: #008000; font-weight: bold\">   $300.00 </span> \n",
              "    Interest Income                <span style=\"color: #008000; text-decoration-color: #008000\">   $800.00 </span> \n",
              "    Trading Income (FVTPL)         <span style=\"color: #008000; text-decoration-color: #008000\"> </span><span style=\"color: #800000; text-decoration-color: #800000\">($500.00)</span><span style=\"color: #008000; text-decoration-color: #008000\"> </span> \n",
              "      Unrealized Trading Loss      <span style=\"color: #008000; text-decoration-color: #008000\">   $500.00 </span> \n",
              " ───────────────────────────────────────────── \n",
              " <span style=\"font-weight: bold\"> Expense                         </span> <span style=\"color: #008000; text-decoration-color: #008000; font-weight: bold\">   $100.00 </span> \n",
              "    Interest Expense               <span style=\"color: #008000; text-decoration-color: #008000\">   $100.00 </span> \n",
              " ───────────────────────────────────────────── \n",
              " <span style=\"font-weight: bold\"> Profit                          </span> <span style=\"color: #008000; text-decoration-color: #008000; font-weight: bold\">   $200.00 </span> \n",
              " ───────────────────────────────────────────── \n",
              "<span style=\"color: #7f7f7f; text-decoration-color: #7f7f7f; font-style: italic\">                               Date: 2025-02-21</span>\n",
              "</pre>"
            ]
          }
        },
        {
          "output_type": "stream",
          "name": "stdout",
          "text": [
            "--------------------------------------------------------------------------------"
          ]
        },
        {
          "output_type": "display_data",
          "metadata": {},
          "data": {
            "text/html": [
              "<pre style=\"white-space:pre;overflow-x:auto;line-height:normal;font-family:Menlo,'DejaVu Sans Mono',consolas,'Courier New',monospace\"><span style=\"font-style: italic\">                      Balance Sheet                       </span>\n",
              " ──────────────────────────────────────────────────────── \n",
              " <span style=\"font-weight: bold\"> Assets                                   </span> <span style=\"color: #008000; text-decoration-color: #008000; font-weight: bold\">             </span> \n",
              "    Cash and Cash Equivalents               <span style=\"color: #008000; text-decoration-color: #008000\">  $20,700.00 </span> \n",
              "    Loans and Advances                      <span style=\"color: #008000; text-decoration-color: #008000\">  $80,000.00 </span> \n",
              "    Assets at FVTPL                         <span style=\"color: #008000; text-decoration-color: #008000\">   $9,500.00 </span> \n",
              " <span style=\"font-weight: bold\"> Total assets                             </span> <span style=\"color: #008000; text-decoration-color: #008000; font-weight: bold\"> $110,200.00 </span> \n",
              " ──────────────────────────────────────────────────────── \n",
              " <span style=\"font-weight: bold\"> Liabilities                              </span> <span style=\"color: #008000; text-decoration-color: #008000; font-weight: bold\">             </span> \n",
              "    Deposits and Other Public Borrowings    <span style=\"color: #008000; text-decoration-color: #008000\"> $100,000.00 </span> \n",
              "      Deposits                              <span style=\"color: #008000; text-decoration-color: #008000\"> $100,000.00 </span> \n",
              " <span style=\"font-weight: bold\"> Total liabilities                        </span> <span style=\"color: #008000; text-decoration-color: #008000; font-weight: bold\"> $100,000.00 </span> \n",
              " ──────────────────────────────────────────────────────── \n",
              " <span style=\"font-weight: bold\"> Net assets                               </span> <span style=\"color: #008000; text-decoration-color: #008000; font-weight: bold\">  $10,200.00 </span> \n",
              " ──────────────────────────────────────────────────────── \n",
              " <span style=\"font-weight: bold\"> Shareholders' equity                     </span> <span style=\"color: #008000; text-decoration-color: #008000; font-weight: bold\">             </span> \n",
              "    Shareholders' Equity                    <span style=\"color: #008000; text-decoration-color: #008000\">  $10,000.00 </span> \n",
              "    Retained Earnings                       <span style=\"color: #008000; text-decoration-color: #008000\">     $200.00 </span> \n",
              " <span style=\"font-weight: bold\"> Total shareholders' equity               </span> <span style=\"color: #008000; text-decoration-color: #008000; font-weight: bold\">  $10,200.00 </span> \n",
              " ──────────────────────────────────────────────────────── \n",
              "<span style=\"color: #7f7f7f; text-decoration-color: #7f7f7f; font-style: italic\">                                          Date: 2025-02-21</span>\n",
              "</pre>"
            ]
          }
        }
      ],
      "source": [
        "# For Google Colab:\n",
        "# @title The FVTPL security is marked to market with an unrealized trading loss. {display-mode: \"form\"}\n",
        "from brms.instruments.mock import MockValuationVisitor\n",
        "\n",
        "today = today + datetime.timedelta(days=1)\n",
        "# Assume that the market value of the FVTPL security went down by 5%\n",
        "new_fvtpl_instrument_value = fvtpl_security.value * 0.95\n",
        "valuation_visitor = MockValuationVisitor(new_value=new_fvtpl_instrument_value)\n",
        "tx_fvtpl_marked_down = TransactionFactory.create_transaction(\n",
        "    bank=bank,\n",
        "    transaction_type=TransactionType.SECURITY_FVTPL_MARK_TO_MARKET,\n",
        "    instrument=fvtpl_security,\n",
        "    transaction_date=today,\n",
        "    valuation_visitor=valuation_visitor,\n",
        "    description=\"Mark to market a FVTPL security (down)\",\n",
        ")\n",
        "bank.process_transaction(tx_fvtpl_marked_down)\n",
        "\n",
        "report = Report(ledger=bank.ledger, viewer=viewer, date=today)\n",
        "report.print_income_statement()\n",
        "print(\"-\" * 80)\n",
        "report.print_balance_sheet()"
      ],
      "id": "57d3c436"
    },
    {
      "cell_type": "markdown",
      "metadata": {},
      "source": [
        "> **Important**\n",
        ">\n",
        "> Usually, financial reports are generated at a period’s end, such as\n",
        "> quarter’s end or year’s end. What’s shown here should be viewed as\n",
        "> *what if we close the bank’s accounting ledger at this time and\n",
        "> generate the reports?*\n",
        ">\n",
        "> If we were to generate the balance sheet now, such net trading loss\n",
        "> would reduce the bank’s retained earnings.\n",
        "\n",
        "#### 3.2.2 Unrealized trading gain\n",
        "\n",
        "The day after, if the market value of the security went up by 10%\n",
        "(\\$950), we need to recognize this *unrealized trading gain*."
      ],
      "id": "216fd948-e962-4b2a-bc03-1d590b5c631b"
    },
    {
      "cell_type": "code",
      "execution_count": 10,
      "metadata": {},
      "outputs": [
        {
          "output_type": "display_data",
          "metadata": {},
          "data": {
            "text/html": [
              "<pre style=\"white-space:pre;overflow-x:auto;line-height:normal;font-family:Menlo,'DejaVu Sans Mono',consolas,'Courier New',monospace\"><span style=\"font-style: italic\">               Income Statement                </span>\n",
              " ───────────────────────────────────────────── \n",
              " <span style=\"font-weight: bold\"> Income                          </span> <span style=\"color: #008000; text-decoration-color: #008000; font-weight: bold\"> $1,250.00 </span> \n",
              "    Interest Income                <span style=\"color: #008000; text-decoration-color: #008000\">   $800.00 </span> \n",
              "    Trading Income (FVTPL)         <span style=\"color: #008000; text-decoration-color: #008000\">   $450.00 </span> \n",
              "      Unrealized Trading Gain      <span style=\"color: #008000; text-decoration-color: #008000\">   $950.00 </span> \n",
              "      Unrealized Trading Loss      <span style=\"color: #008000; text-decoration-color: #008000\">   $500.00 </span> \n",
              " ───────────────────────────────────────────── \n",
              " <span style=\"font-weight: bold\"> Expense                         </span> <span style=\"color: #008000; text-decoration-color: #008000; font-weight: bold\">   $100.00 </span> \n",
              "    Interest Expense               <span style=\"color: #008000; text-decoration-color: #008000\">   $100.00 </span> \n",
              " ───────────────────────────────────────────── \n",
              " <span style=\"font-weight: bold\"> Profit                          </span> <span style=\"color: #008000; text-decoration-color: #008000; font-weight: bold\"> $1,150.00 </span> \n",
              " ───────────────────────────────────────────── \n",
              "<span style=\"color: #7f7f7f; text-decoration-color: #7f7f7f; font-style: italic\">                               Date: 2025-02-22</span>\n",
              "</pre>"
            ]
          }
        },
        {
          "output_type": "stream",
          "name": "stdout",
          "text": [
            "--------------------------------------------------------------------------------"
          ]
        },
        {
          "output_type": "display_data",
          "metadata": {},
          "data": {
            "text/html": [
              "<pre style=\"white-space:pre;overflow-x:auto;line-height:normal;font-family:Menlo,'DejaVu Sans Mono',consolas,'Courier New',monospace\"><span style=\"font-style: italic\">                      Balance Sheet                       </span>\n",
              " ──────────────────────────────────────────────────────── \n",
              " <span style=\"font-weight: bold\"> Assets                                   </span> <span style=\"color: #008000; text-decoration-color: #008000; font-weight: bold\">             </span> \n",
              "    Cash and Cash Equivalents               <span style=\"color: #008000; text-decoration-color: #008000\">  $20,700.00 </span> \n",
              "    Loans and Advances                      <span style=\"color: #008000; text-decoration-color: #008000\">  $80,000.00 </span> \n",
              "    Assets at FVTPL                         <span style=\"color: #008000; text-decoration-color: #008000\">  $10,450.00 </span> \n",
              " <span style=\"font-weight: bold\"> Total assets                             </span> <span style=\"color: #008000; text-decoration-color: #008000; font-weight: bold\"> $111,150.00 </span> \n",
              " ──────────────────────────────────────────────────────── \n",
              " <span style=\"font-weight: bold\"> Liabilities                              </span> <span style=\"color: #008000; text-decoration-color: #008000; font-weight: bold\">             </span> \n",
              "    Deposits and Other Public Borrowings    <span style=\"color: #008000; text-decoration-color: #008000\"> $100,000.00 </span> \n",
              "      Deposits                              <span style=\"color: #008000; text-decoration-color: #008000\"> $100,000.00 </span> \n",
              " <span style=\"font-weight: bold\"> Total liabilities                        </span> <span style=\"color: #008000; text-decoration-color: #008000; font-weight: bold\"> $100,000.00 </span> \n",
              " ──────────────────────────────────────────────────────── \n",
              " <span style=\"font-weight: bold\"> Net assets                               </span> <span style=\"color: #008000; text-decoration-color: #008000; font-weight: bold\">  $11,150.00 </span> \n",
              " ──────────────────────────────────────────────────────── \n",
              " <span style=\"font-weight: bold\"> Shareholders' equity                     </span> <span style=\"color: #008000; text-decoration-color: #008000; font-weight: bold\">             </span> \n",
              "    Shareholders' Equity                    <span style=\"color: #008000; text-decoration-color: #008000\">  $10,000.00 </span> \n",
              "    Retained Earnings                       <span style=\"color: #008000; text-decoration-color: #008000\">   $1,150.00 </span> \n",
              " <span style=\"font-weight: bold\"> Total shareholders' equity               </span> <span style=\"color: #008000; text-decoration-color: #008000; font-weight: bold\">  $11,150.00 </span> \n",
              " ──────────────────────────────────────────────────────── \n",
              "<span style=\"color: #7f7f7f; text-decoration-color: #7f7f7f; font-style: italic\">                                          Date: 2025-02-22</span>\n",
              "</pre>"
            ]
          }
        }
      ],
      "source": [
        "# For Google Colab:\n",
        "# @title The FVTPL security is marked to market with an unrealized trading gain. {display-mode: \"form\"}\n",
        "today = today + datetime.timedelta(days=1)\n",
        "# Assume that the market value of the FVTPL security went up by 10%\n",
        "new_fvtpl_instrument_value = fvtpl_security.value * 1.1\n",
        "valuation_visitor = MockValuationVisitor(new_value=new_fvtpl_instrument_value)\n",
        "tx_fvtpl_marked_up = TransactionFactory.create_transaction(\n",
        "    bank=bank,\n",
        "    transaction_type=TransactionType.SECURITY_FVTPL_MARK_TO_MARKET,\n",
        "    instrument=fvtpl_security,\n",
        "    transaction_date=today,\n",
        "    valuation_visitor=valuation_visitor,\n",
        "    description=\"Mark to market a FVTPL security (up)\",\n",
        ")\n",
        "bank.process_transaction(tx_fvtpl_marked_up)\n",
        "\n",
        "report = Report(ledger=bank.ledger, viewer=viewer, date=today)\n",
        "report.print_income_statement()\n",
        "print(\"-\" * 80)\n",
        "report.print_balance_sheet()"
      ],
      "id": "8e6fc263"
    },
    {
      "cell_type": "markdown",
      "metadata": {},
      "source": [
        "Again, if we were to close the bank’s accounting ledger now and check\n",
        "its balance sheet, we will see changes of the bank’s retained earnings.\n",
        "\n",
        "### 3.3 FVTPL security sale\n",
        "\n",
        "The next day, if the bank sold the security at the prevailing market\n",
        "price (assumed 2% up), we recognize *realized trading gain*.\n",
        "\n",
        "Tracking the P&L of this particular FVTPL security,\n",
        "\n",
        "1.  On day 1, we had a loss of \\$500 (\\$10,000 \\* 0.95 = \\$9,500).\n",
        "2.  On day 2, we had a gain of \\$950 (\\$9,500 \\* 1.1 = \\$10,450).\n",
        "3.  On day 3, we had a gain of \\$209 (\\$10,450 \\* 1.02 = \\$10,659).\n",
        "\n",
        "The total P&L from this security is therefore a net gain of \\$659, which\n",
        "shows up in the Income Statement.\n",
        "\n",
        "> **Note**\n",
        ">\n",
        "> Because of the sale, the unrealized trading gain/loss associated with\n",
        "> this security must be reclassified to realized gain/loss."
      ],
      "id": "d3ae3c36-baa7-45c6-a10f-d790a77eb7c4"
    },
    {
      "cell_type": "code",
      "execution_count": 11,
      "metadata": {},
      "outputs": [
        {
          "output_type": "display_data",
          "metadata": {},
          "data": {
            "text/html": [
              "<pre style=\"white-space:pre;overflow-x:auto;line-height:normal;font-family:Menlo,'DejaVu Sans Mono',consolas,'Courier New',monospace\"><span style=\"font-style: italic\">              Income Statement               </span>\n",
              " ─────────────────────────────────────────── \n",
              " <span style=\"font-weight: bold\"> Income                        </span> <span style=\"color: #008000; text-decoration-color: #008000; font-weight: bold\"> $1,459.00 </span> \n",
              "    Interest Income              <span style=\"color: #008000; text-decoration-color: #008000\">   $800.00 </span> \n",
              "    Trading Income (FVTPL)       <span style=\"color: #008000; text-decoration-color: #008000\">   $659.00 </span> \n",
              "      Realized Trading Gain      <span style=\"color: #008000; text-decoration-color: #008000\"> $1,159.00 </span> \n",
              "      Realized Trading Loss      <span style=\"color: #008000; text-decoration-color: #008000\">   $500.00 </span> \n",
              " ─────────────────────────────────────────── \n",
              " <span style=\"font-weight: bold\"> Expense                       </span> <span style=\"color: #008000; text-decoration-color: #008000; font-weight: bold\">   $100.00 </span> \n",
              "    Interest Expense             <span style=\"color: #008000; text-decoration-color: #008000\">   $100.00 </span> \n",
              " ─────────────────────────────────────────── \n",
              " <span style=\"font-weight: bold\"> Profit                        </span> <span style=\"color: #008000; text-decoration-color: #008000; font-weight: bold\"> $1,359.00 </span> \n",
              " ─────────────────────────────────────────── \n",
              "<span style=\"color: #7f7f7f; text-decoration-color: #7f7f7f; font-style: italic\">                             Date: 2025-02-23</span>\n",
              "</pre>"
            ]
          }
        },
        {
          "output_type": "stream",
          "name": "stdout",
          "text": [
            "--------------------------------------------------------------------------------"
          ]
        },
        {
          "output_type": "display_data",
          "metadata": {},
          "data": {
            "text/html": [
              "<pre style=\"white-space:pre;overflow-x:auto;line-height:normal;font-family:Menlo,'DejaVu Sans Mono',consolas,'Courier New',monospace\"><span style=\"font-style: italic\">                      Balance Sheet                       </span>\n",
              " ──────────────────────────────────────────────────────── \n",
              " <span style=\"font-weight: bold\"> Assets                                   </span> <span style=\"color: #008000; text-decoration-color: #008000; font-weight: bold\">             </span> \n",
              "    Cash and Cash Equivalents               <span style=\"color: #008000; text-decoration-color: #008000\">  $31,359.00 </span> \n",
              "    Loans and Advances                      <span style=\"color: #008000; text-decoration-color: #008000\">  $80,000.00 </span> \n",
              " <span style=\"font-weight: bold\"> Total assets                             </span> <span style=\"color: #008000; text-decoration-color: #008000; font-weight: bold\"> $111,359.00 </span> \n",
              " ──────────────────────────────────────────────────────── \n",
              " <span style=\"font-weight: bold\"> Liabilities                              </span> <span style=\"color: #008000; text-decoration-color: #008000; font-weight: bold\">             </span> \n",
              "    Deposits and Other Public Borrowings    <span style=\"color: #008000; text-decoration-color: #008000\"> $100,000.00 </span> \n",
              "      Deposits                              <span style=\"color: #008000; text-decoration-color: #008000\"> $100,000.00 </span> \n",
              " <span style=\"font-weight: bold\"> Total liabilities                        </span> <span style=\"color: #008000; text-decoration-color: #008000; font-weight: bold\"> $100,000.00 </span> \n",
              " ──────────────────────────────────────────────────────── \n",
              " <span style=\"font-weight: bold\"> Net assets                               </span> <span style=\"color: #008000; text-decoration-color: #008000; font-weight: bold\">  $11,359.00 </span> \n",
              " ──────────────────────────────────────────────────────── \n",
              " <span style=\"font-weight: bold\"> Shareholders' equity                     </span> <span style=\"color: #008000; text-decoration-color: #008000; font-weight: bold\">             </span> \n",
              "    Shareholders' Equity                    <span style=\"color: #008000; text-decoration-color: #008000\">  $10,000.00 </span> \n",
              "    Retained Earnings                       <span style=\"color: #008000; text-decoration-color: #008000\">   $1,359.00 </span> \n",
              " <span style=\"font-weight: bold\"> Total shareholders' equity               </span> <span style=\"color: #008000; text-decoration-color: #008000; font-weight: bold\">  $11,359.00 </span> \n",
              " ──────────────────────────────────────────────────────── \n",
              "<span style=\"color: #7f7f7f; text-decoration-color: #7f7f7f; font-style: italic\">                                          Date: 2025-02-23</span>\n",
              "</pre>"
            ]
          }
        }
      ],
      "source": [
        "# For Google Colab:\n",
        "# @title The FVTPL security is sold. {display-mode: \"form\"}\n",
        "today = today + datetime.timedelta(days=1)\n",
        "# Assume that the market value of the FVTPL security went up by 2%\n",
        "new_fvtpl_instrument_value = fvtpl_security.value * 1.02\n",
        "valuation_visitor = MockValuationVisitor(new_value=new_fvtpl_instrument_value)\n",
        "tx_fvtpl_marked_up = TransactionFactory.create_transaction(\n",
        "    bank=bank,\n",
        "    transaction_type=TransactionType.SECURITY_FVTPL_MARK_TO_MARKET,\n",
        "    instrument=fvtpl_security,\n",
        "    transaction_date=today,\n",
        "    valuation_visitor=valuation_visitor,\n",
        "    description=\"Mark to market a FVTPL security (up)\",\n",
        ")\n",
        "bank.process_transaction(tx_fvtpl_marked_up)\n",
        "# Sale transaction should be created after the previous transaction has been processed\n",
        "tx_fvtpl_sale = TransactionFactory.create_transaction(\n",
        "    bank=bank,\n",
        "    transaction_type=TransactionType.SECURITY_SALE_TRADING,\n",
        "    instrument=fvtpl_security,\n",
        "    transaction_date=today,\n",
        "    valuation_visitor=valuation_visitor,\n",
        "    description=\"Sale of FVTPL security (net gain)\",\n",
        ")\n",
        "bank.process_transaction(tx_fvtpl_sale)\n",
        "# fmt: on\n",
        "\n",
        "report = Report(ledger=bank.ledger, viewer=viewer, date=today)\n",
        "report.print_income_statement()\n",
        "print(\"-\" * 80)\n",
        "report.print_balance_sheet()"
      ],
      "id": "7c995c36"
    },
    {
      "cell_type": "markdown",
      "metadata": {},
      "source": [
        "Compare this balance sheet to the one before the bank purchased this\n",
        "FVTPL security, the retained earnings increased by exactly \\$659.\n",
        "\n",
        "## 4 Intermediate banking book accounting\n",
        "\n",
        "Apart from loans, a bank’s banking book contains other assets that are\n",
        "held mostly for interest income. However, depending on whether the bank\n",
        "intends to hold them until maturity, these non-loan banking book assets\n",
        "can be either:\n",
        "\n",
        "1.  **Fair Value Through Other Comprehensive Income (FVOCI)**, or\n",
        "2.  **At Amortized Cost** or Held to Maturity (HTM).\n",
        "\n",
        "For example, Treasury bonds, corporate bonds, MBS, etc., are usually\n",
        "FVOCI or HTM banking book assets.\n",
        "\n",
        "### 4.1 FVOCI security purchase\n",
        "\n",
        "FVOCI assets in the banking book are typically debt securities that:\n",
        "\n",
        "-   Earn interest income for the bank.\n",
        "-   Can be sold before maturity but are *not actively traded* like FVTPL\n",
        "    securities.\n",
        "-   Experience fair value changes that are recorded in **Accumulated\n",
        "    Other Comprehensive Income (AOCI)** instead of directly impacting\n",
        "    net income.\n",
        "-   Upon sale, unrealized gains/losses from AOCI are transferred to Net\n",
        "    Income.\n",
        "\n",
        "Assume that the bank now purchased a Treasury bond at a fair value of\n",
        "\\$30,000. The bank may sell the bond before it matures, and hence\n",
        "classify it as a FVOCI asset on the banking book."
      ],
      "id": "9c298954-d30f-4547-9877-6741f8351af8"
    },
    {
      "cell_type": "code",
      "execution_count": 12,
      "metadata": {},
      "outputs": [
        {
          "output_type": "display_data",
          "metadata": {},
          "data": {
            "text/html": [
              "<pre style=\"white-space:pre;overflow-x:auto;line-height:normal;font-family:Menlo,'DejaVu Sans Mono',consolas,'Courier New',monospace\"><span style=\"font-style: italic\">                      Balance Sheet                       </span>\n",
              " ──────────────────────────────────────────────────────── \n",
              " <span style=\"font-weight: bold\"> Assets                                   </span> <span style=\"color: #008000; text-decoration-color: #008000; font-weight: bold\">             </span> \n",
              "    Cash and Cash Equivalents               <span style=\"color: #008000; text-decoration-color: #008000\">   $1,359.00 </span> \n",
              "    Loans and Advances                      <span style=\"color: #008000; text-decoration-color: #008000\">  $80,000.00 </span> \n",
              "    Investment Securities                   <span style=\"color: #008000; text-decoration-color: #008000\">  $30,000.00 </span> \n",
              "      Investment Securities at FVOCI        <span style=\"color: #008000; text-decoration-color: #008000\">  $30,000.00 </span> \n",
              " <span style=\"font-weight: bold\"> Total assets                             </span> <span style=\"color: #008000; text-decoration-color: #008000; font-weight: bold\"> $111,359.00 </span> \n",
              " ──────────────────────────────────────────────────────── \n",
              " <span style=\"font-weight: bold\"> Liabilities                              </span> <span style=\"color: #008000; text-decoration-color: #008000; font-weight: bold\">             </span> \n",
              "    Deposits and Other Public Borrowings    <span style=\"color: #008000; text-decoration-color: #008000\"> $100,000.00 </span> \n",
              "      Deposits                              <span style=\"color: #008000; text-decoration-color: #008000\"> $100,000.00 </span> \n",
              " <span style=\"font-weight: bold\"> Total liabilities                        </span> <span style=\"color: #008000; text-decoration-color: #008000; font-weight: bold\"> $100,000.00 </span> \n",
              " ──────────────────────────────────────────────────────── \n",
              " <span style=\"font-weight: bold\"> Net assets                               </span> <span style=\"color: #008000; text-decoration-color: #008000; font-weight: bold\">  $11,359.00 </span> \n",
              " ──────────────────────────────────────────────────────── \n",
              " <span style=\"font-weight: bold\"> Shareholders' equity                     </span> <span style=\"color: #008000; text-decoration-color: #008000; font-weight: bold\">             </span> \n",
              "    Shareholders' Equity                    <span style=\"color: #008000; text-decoration-color: #008000\">  $10,000.00 </span> \n",
              "    Retained Earnings                       <span style=\"color: #008000; text-decoration-color: #008000\">   $1,359.00 </span> \n",
              " <span style=\"font-weight: bold\"> Total shareholders' equity               </span> <span style=\"color: #008000; text-decoration-color: #008000; font-weight: bold\">  $11,359.00 </span> \n",
              " ──────────────────────────────────────────────────────── \n",
              "<span style=\"color: #7f7f7f; text-decoration-color: #7f7f7f; font-style: italic\">                                          Date: 2025-02-23</span>\n",
              "</pre>"
            ]
          }
        }
      ],
      "source": [
        "# For Google Colab:\n",
        "# @title The bank has purchased some FVOCI securities. {display-mode: \"form\"}\n",
        "fvoci_security = MockInstrument(\"A Treausy bond (FVOCI)\", BookType.BANKING_BOOK)\n",
        "fvoci_security.value = 30_000\n",
        "tx_fvoci_purchase = TransactionFactory.create_transaction(\n",
        "    bank=bank,\n",
        "    transaction_type=TransactionType.SECURITY_PURCHASE_FVOCI,\n",
        "    instrument=fvoci_security,\n",
        "    transaction_date=today,\n",
        "    description=\"Purchase a FVOCI security\",\n",
        ")\n",
        "bank.process_transaction(tx_fvoci_purchase)\n",
        "\n",
        "report = Report(ledger=bank.ledger, viewer=viewer, date=today)\n",
        "report.print_balance_sheet()"
      ],
      "id": "4084e7f8"
    },
    {
      "cell_type": "markdown",
      "metadata": {},
      "source": [
        "The fair value of the security is recorded on the balance sheet under\n",
        "the *Investment Securities at FVOCI* account.\n",
        "\n",
        "### 4.2 FVOCI security marking to market\n",
        "\n",
        "#### 4.2.1 Unrealized gain\n",
        "\n",
        "Similarly, the next day, we need to mark to market the FVOCI security to\n",
        "ensure its fair value is correctly accounted for. Suppose that its\n",
        "market value went up by 5% (\\$600 = \\$30,000\\*5%).\n",
        "\n",
        "It is important to note that FVOCI security’s fair value changes affect\n",
        "AOCI, an equity account. It does not affect Income Statement P&L untill\n",
        "it’s eventually sold."
      ],
      "id": "3d84e070-357d-46a8-bf41-5af29e0f8a5c"
    },
    {
      "cell_type": "code",
      "execution_count": 13,
      "metadata": {},
      "outputs": [
        {
          "output_type": "display_data",
          "metadata": {},
          "data": {
            "text/html": [
              "<pre style=\"white-space:pre;overflow-x:auto;line-height:normal;font-family:Menlo,'DejaVu Sans Mono',consolas,'Courier New',monospace\"><span style=\"font-style: italic\">              Income Statement               </span>\n",
              " ─────────────────────────────────────────── \n",
              " <span style=\"font-weight: bold\"> Income                        </span> <span style=\"color: #008000; text-decoration-color: #008000; font-weight: bold\"> $1,459.00 </span> \n",
              "    Interest Income              <span style=\"color: #008000; text-decoration-color: #008000\">   $800.00 </span> \n",
              "    Trading Income (FVTPL)       <span style=\"color: #008000; text-decoration-color: #008000\">   $659.00 </span> \n",
              "      Realized Trading Gain      <span style=\"color: #008000; text-decoration-color: #008000\"> $1,159.00 </span> \n",
              "      Realized Trading Loss      <span style=\"color: #008000; text-decoration-color: #008000\">   $500.00 </span> \n",
              " ─────────────────────────────────────────── \n",
              " <span style=\"font-weight: bold\"> Expense                       </span> <span style=\"color: #008000; text-decoration-color: #008000; font-weight: bold\">   $100.00 </span> \n",
              "    Interest Expense             <span style=\"color: #008000; text-decoration-color: #008000\">   $100.00 </span> \n",
              " ─────────────────────────────────────────── \n",
              " <span style=\"font-weight: bold\"> Profit                        </span> <span style=\"color: #008000; text-decoration-color: #008000; font-weight: bold\"> $1,359.00 </span> \n",
              " ─────────────────────────────────────────── \n",
              "<span style=\"color: #7f7f7f; text-decoration-color: #7f7f7f; font-style: italic\">                             Date: 2025-02-24</span>\n",
              "</pre>"
            ]
          }
        },
        {
          "output_type": "stream",
          "name": "stdout",
          "text": [
            "--------------------------------------------------------------------------------"
          ]
        },
        {
          "output_type": "display_data",
          "metadata": {},
          "data": {
            "text/html": [
              "<pre style=\"white-space:pre;overflow-x:auto;line-height:normal;font-family:Menlo,'DejaVu Sans Mono',consolas,'Courier New',monospace\"><span style=\"font-style: italic\">                      Balance Sheet                       </span>\n",
              " ──────────────────────────────────────────────────────── \n",
              " <span style=\"font-weight: bold\"> Assets                                   </span> <span style=\"color: #008000; text-decoration-color: #008000; font-weight: bold\">             </span> \n",
              "    Cash and Cash Equivalents               <span style=\"color: #008000; text-decoration-color: #008000\">   $1,359.00 </span> \n",
              "    Loans and Advances                      <span style=\"color: #008000; text-decoration-color: #008000\">  $80,000.00 </span> \n",
              "    Investment Securities                   <span style=\"color: #008000; text-decoration-color: #008000\">  $30,600.00 </span> \n",
              "      Investment Securities at FVOCI        <span style=\"color: #008000; text-decoration-color: #008000\">  $30,600.00 </span> \n",
              " <span style=\"font-weight: bold\"> Total assets                             </span> <span style=\"color: #008000; text-decoration-color: #008000; font-weight: bold\"> $111,959.00 </span> \n",
              " ──────────────────────────────────────────────────────── \n",
              " <span style=\"font-weight: bold\"> Liabilities                              </span> <span style=\"color: #008000; text-decoration-color: #008000; font-weight: bold\">             </span> \n",
              "    Deposits and Other Public Borrowings    <span style=\"color: #008000; text-decoration-color: #008000\"> $100,000.00 </span> \n",
              "      Deposits                              <span style=\"color: #008000; text-decoration-color: #008000\"> $100,000.00 </span> \n",
              " <span style=\"font-weight: bold\"> Total liabilities                        </span> <span style=\"color: #008000; text-decoration-color: #008000; font-weight: bold\"> $100,000.00 </span> \n",
              " ──────────────────────────────────────────────────────── \n",
              " <span style=\"font-weight: bold\"> Net assets                               </span> <span style=\"color: #008000; text-decoration-color: #008000; font-weight: bold\">  $11,959.00 </span> \n",
              " ──────────────────────────────────────────────────────── \n",
              " <span style=\"font-weight: bold\"> Shareholders' equity                     </span> <span style=\"color: #008000; text-decoration-color: #008000; font-weight: bold\">             </span> \n",
              "    Shareholders' Equity                    <span style=\"color: #008000; text-decoration-color: #008000\">  $10,000.00 </span> \n",
              "    Accumulated OCI                         <span style=\"color: #008000; text-decoration-color: #008000\">     $600.00 </span> \n",
              "      Unrealized OCI Gain                   <span style=\"color: #008000; text-decoration-color: #008000\">     $600.00 </span> \n",
              "    Retained Earnings                       <span style=\"color: #008000; text-decoration-color: #008000\">   $1,359.00 </span> \n",
              " <span style=\"font-weight: bold\"> Total shareholders' equity               </span> <span style=\"color: #008000; text-decoration-color: #008000; font-weight: bold\">  $11,959.00 </span> \n",
              " ──────────────────────────────────────────────────────── \n",
              "<span style=\"color: #7f7f7f; text-decoration-color: #7f7f7f; font-style: italic\">                                          Date: 2025-02-24</span>\n",
              "</pre>"
            ]
          }
        }
      ],
      "source": [
        "# For Google Colab:\n",
        "# @title The FVOCI security is marked to market with an unrealized gain. {display-mode: \"form\"}\n",
        "today = today + datetime.timedelta(days=1)\n",
        "# Assume that the market value of the FVTPL security went up by 2%\n",
        "new_fvoci_instrument_value = fvoci_security.value * 1.02\n",
        "valuation_visitor = MockValuationVisitor(new_value=new_fvoci_instrument_value)\n",
        "tx_fvoci_marked_up = TransactionFactory.create_transaction(\n",
        "    bank=bank,\n",
        "    transaction_type=TransactionType.SECURITY_FVOCI_MARK_TO_MARKET,\n",
        "    instrument=fvoci_security,\n",
        "    transaction_date=today,\n",
        "    valuation_visitor=valuation_visitor,\n",
        "    description=\"Mark to market a FVTPL security (up)\",\n",
        ")\n",
        "bank.process_transaction(tx_fvoci_marked_up)\n",
        "\n",
        "report = Report(ledger=bank.ledger, viewer=viewer, date=today)\n",
        "report.print_income_statement()\n",
        "print(\"-\" * 80)\n",
        "report.print_balance_sheet()"
      ],
      "id": "ffbbe2d4"
    },
    {
      "cell_type": "markdown",
      "metadata": {},
      "source": [
        "> **Important**\n",
        ">\n",
        "> Because FVOCI’s (even unrealized) gain increases AOCI, and AOCI is\n",
        "> part of a bank’s CET1 capital, FVOCI’s fair value movement can cause\n",
        "> volatility in the bank’s regulatory capital ratios.\n",
        "\n",
        "#### 4.2.2 Unrealized loss\n",
        "\n",
        "If the market value of the security went down by 2% (\\$612=\\$30,600\\*2%)\n",
        "the next day, we recognize this *unrealized OCI loss* of AOCI."
      ],
      "id": "f8fbf4cf-509f-4c40-98ea-4f7f3ad335ef"
    },
    {
      "cell_type": "code",
      "execution_count": 14,
      "metadata": {},
      "outputs": [
        {
          "output_type": "display_data",
          "metadata": {},
          "data": {
            "text/html": [
              "<pre style=\"white-space:pre;overflow-x:auto;line-height:normal;font-family:Menlo,'DejaVu Sans Mono',consolas,'Courier New',monospace\"><span style=\"font-style: italic\">              Income Statement               </span>\n",
              " ─────────────────────────────────────────── \n",
              " <span style=\"font-weight: bold\"> Income                        </span> <span style=\"color: #008000; text-decoration-color: #008000; font-weight: bold\"> $1,459.00 </span> \n",
              "    Interest Income              <span style=\"color: #008000; text-decoration-color: #008000\">   $800.00 </span> \n",
              "    Trading Income (FVTPL)       <span style=\"color: #008000; text-decoration-color: #008000\">   $659.00 </span> \n",
              "      Realized Trading Gain      <span style=\"color: #008000; text-decoration-color: #008000\"> $1,159.00 </span> \n",
              "      Realized Trading Loss      <span style=\"color: #008000; text-decoration-color: #008000\">   $500.00 </span> \n",
              " ─────────────────────────────────────────── \n",
              " <span style=\"font-weight: bold\"> Expense                       </span> <span style=\"color: #008000; text-decoration-color: #008000; font-weight: bold\">   $100.00 </span> \n",
              "    Interest Expense             <span style=\"color: #008000; text-decoration-color: #008000\">   $100.00 </span> \n",
              " ─────────────────────────────────────────── \n",
              " <span style=\"font-weight: bold\"> Profit                        </span> <span style=\"color: #008000; text-decoration-color: #008000; font-weight: bold\"> $1,359.00 </span> \n",
              " ─────────────────────────────────────────── \n",
              "<span style=\"color: #7f7f7f; text-decoration-color: #7f7f7f; font-style: italic\">                             Date: 2025-02-25</span>\n",
              "</pre>"
            ]
          }
        },
        {
          "output_type": "stream",
          "name": "stdout",
          "text": [
            "--------------------------------------------------------------------------------"
          ]
        },
        {
          "output_type": "display_data",
          "metadata": {},
          "data": {
            "text/html": [
              "<pre style=\"white-space:pre;overflow-x:auto;line-height:normal;font-family:Menlo,'DejaVu Sans Mono',consolas,'Courier New',monospace\"><span style=\"font-style: italic\">                      Balance Sheet                       </span>\n",
              " ──────────────────────────────────────────────────────── \n",
              " <span style=\"font-weight: bold\"> Assets                                   </span> <span style=\"color: #008000; text-decoration-color: #008000; font-weight: bold\">             </span> \n",
              "    Cash and Cash Equivalents               <span style=\"color: #008000; text-decoration-color: #008000\">   $1,359.00 </span> \n",
              "    Loans and Advances                      <span style=\"color: #008000; text-decoration-color: #008000\">  $80,000.00 </span> \n",
              "    Investment Securities                   <span style=\"color: #008000; text-decoration-color: #008000\">  $29,988.00 </span> \n",
              "      Investment Securities at FVOCI        <span style=\"color: #008000; text-decoration-color: #008000\">  $29,988.00 </span> \n",
              " <span style=\"font-weight: bold\"> Total assets                             </span> <span style=\"color: #008000; text-decoration-color: #008000; font-weight: bold\"> $111,347.00 </span> \n",
              " ──────────────────────────────────────────────────────── \n",
              " <span style=\"font-weight: bold\"> Liabilities                              </span> <span style=\"color: #008000; text-decoration-color: #008000; font-weight: bold\">             </span> \n",
              "    Deposits and Other Public Borrowings    <span style=\"color: #008000; text-decoration-color: #008000\"> $100,000.00 </span> \n",
              "      Deposits                              <span style=\"color: #008000; text-decoration-color: #008000\"> $100,000.00 </span> \n",
              " <span style=\"font-weight: bold\"> Total liabilities                        </span> <span style=\"color: #008000; text-decoration-color: #008000; font-weight: bold\"> $100,000.00 </span> \n",
              " ──────────────────────────────────────────────────────── \n",
              " <span style=\"font-weight: bold\"> Net assets                               </span> <span style=\"color: #008000; text-decoration-color: #008000; font-weight: bold\">  $11,347.00 </span> \n",
              " ──────────────────────────────────────────────────────── \n",
              " <span style=\"font-weight: bold\"> Shareholders' equity                     </span> <span style=\"color: #008000; text-decoration-color: #008000; font-weight: bold\">             </span> \n",
              "    Shareholders' Equity                    <span style=\"color: #008000; text-decoration-color: #008000\">  $10,000.00 </span> \n",
              "    Accumulated OCI                         <span style=\"color: #008000; text-decoration-color: #008000\"> </span><span style=\"color: #800000; text-decoration-color: #800000\">   ($12.00)</span><span style=\"color: #008000; text-decoration-color: #008000\"> </span> \n",
              "      Unrealized OCI Gain                   <span style=\"color: #008000; text-decoration-color: #008000\">     $600.00 </span> \n",
              "      Unrealized OCI Loss                   <span style=\"color: #008000; text-decoration-color: #008000\">     $612.00 </span> \n",
              "    Retained Earnings                       <span style=\"color: #008000; text-decoration-color: #008000\">   $1,359.00 </span> \n",
              " <span style=\"font-weight: bold\"> Total shareholders' equity               </span> <span style=\"color: #008000; text-decoration-color: #008000; font-weight: bold\">  $11,347.00 </span> \n",
              " ──────────────────────────────────────────────────────── \n",
              "<span style=\"color: #7f7f7f; text-decoration-color: #7f7f7f; font-style: italic\">                                          Date: 2025-02-25</span>\n",
              "</pre>"
            ]
          }
        }
      ],
      "source": [
        "# For Google Colab:\n",
        "# @title The FVOCI security is marked to market with an unrealized trading loss. {display-mode: \"form\"}\n",
        "today = today + datetime.timedelta(days=1)\n",
        "# Assume that the market value of the FVOCI security went down by 2%\n",
        "new_fvoci_instrument_value = fvoci_security.value * 0.98\n",
        "valuation_visitor = MockValuationVisitor(new_value=new_fvoci_instrument_value)\n",
        "tx_fvoci_marked_down = TransactionFactory.create_transaction(\n",
        "    bank=bank,\n",
        "    transaction_type=TransactionType.SECURITY_FVOCI_MARK_TO_MARKET,\n",
        "    instrument=fvoci_security,\n",
        "    transaction_date=today,\n",
        "    valuation_visitor=valuation_visitor,\n",
        "    description=\"Mark to market a FVTPL security (down)\",\n",
        ")\n",
        "bank.process_transaction(tx_fvoci_marked_down)\n",
        "\n",
        "report = Report(ledger=bank.ledger, viewer=viewer, date=today)\n",
        "report.print_income_statement()\n",
        "print(\"-\" * 80)\n",
        "report.print_balance_sheet()"
      ],
      "id": "6a476c4e"
    },
    {
      "cell_type": "markdown",
      "metadata": {},
      "source": [
        "### 4.3 FVOCI security sale\n",
        "\n",
        "The next day, if the bank sold the FVOCI security at the prevailing\n",
        "market price (assumed 2% down), we recognize *realized OCI loss*.\n",
        "\n",
        "Tracking the AOCI gain/loss of this particular FVOCI security,\n",
        "\n",
        "1.  On day 1, we had a gain of \\$600.\n",
        "2.  On day 2, we had a loss of \\$612.\n",
        "3.  On day 3, we had a loss of \\$599.76.\n",
        "\n",
        "The total net loss of this security is therefore \\$611.76.\n",
        "\n",
        "Now that the FVOCI security is sold, its gain/loss is moved from AOCI to\n",
        "Income Statement as *Investment Income (FVOCI)*. When P&L accounts of\n",
        "income statement are closed, the net gain/loss of Investment Income\n",
        "(FVOCI) changes the bank’s retained earnings."
      ],
      "id": "2f94bef2-19da-4c15-8452-302956e58a2a"
    },
    {
      "cell_type": "code",
      "execution_count": 15,
      "metadata": {},
      "outputs": [
        {
          "output_type": "display_data",
          "metadata": {},
          "data": {
            "text/html": [
              "<pre style=\"white-space:pre;overflow-x:auto;line-height:normal;font-family:Menlo,'DejaVu Sans Mono',consolas,'Courier New',monospace\"><span style=\"font-style: italic\">              Income Statement               </span>\n",
              " ─────────────────────────────────────────── \n",
              " <span style=\"font-weight: bold\"> Income                        </span> <span style=\"color: #008000; text-decoration-color: #008000; font-weight: bold\">   $847.24 </span> \n",
              "    Interest Income              <span style=\"color: #008000; text-decoration-color: #008000\">   $800.00 </span> \n",
              "    Trading Income (FVTPL)       <span style=\"color: #008000; text-decoration-color: #008000\">   $659.00 </span> \n",
              "      Realized Trading Gain      <span style=\"color: #008000; text-decoration-color: #008000\"> $1,159.00 </span> \n",
              "      Realized Trading Loss      <span style=\"color: #008000; text-decoration-color: #008000\">   $500.00 </span> \n",
              "    Investment Income (FVOCI)    <span style=\"color: #008000; text-decoration-color: #008000\"> </span><span style=\"color: #800000; text-decoration-color: #800000\">($611.76)</span><span style=\"color: #008000; text-decoration-color: #008000\"> </span> \n",
              "      Realized OCI Gain          <span style=\"color: #008000; text-decoration-color: #008000\">   $600.00 </span> \n",
              "      Realized OCI Loss          <span style=\"color: #008000; text-decoration-color: #008000\"> $1,211.76 </span> \n",
              " ─────────────────────────────────────────── \n",
              " <span style=\"font-weight: bold\"> Expense                       </span> <span style=\"color: #008000; text-decoration-color: #008000; font-weight: bold\">   $100.00 </span> \n",
              "    Interest Expense             <span style=\"color: #008000; text-decoration-color: #008000\">   $100.00 </span> \n",
              " ─────────────────────────────────────────── \n",
              " <span style=\"font-weight: bold\"> Profit                        </span> <span style=\"color: #008000; text-decoration-color: #008000; font-weight: bold\">   $747.24 </span> \n",
              " ─────────────────────────────────────────── \n",
              "<span style=\"color: #7f7f7f; text-decoration-color: #7f7f7f; font-style: italic\">                             Date: 2025-02-26</span>\n",
              "</pre>"
            ]
          }
        },
        {
          "output_type": "stream",
          "name": "stdout",
          "text": [
            "--------------------------------------------------------------------------------"
          ]
        },
        {
          "output_type": "display_data",
          "metadata": {},
          "data": {
            "text/html": [
              "<pre style=\"white-space:pre;overflow-x:auto;line-height:normal;font-family:Menlo,'DejaVu Sans Mono',consolas,'Courier New',monospace\"><span style=\"font-style: italic\">                      Balance Sheet                       </span>\n",
              " ──────────────────────────────────────────────────────── \n",
              " <span style=\"font-weight: bold\"> Assets                                   </span> <span style=\"color: #008000; text-decoration-color: #008000; font-weight: bold\">             </span> \n",
              "    Cash and Cash Equivalents               <span style=\"color: #008000; text-decoration-color: #008000\">  $30,747.24 </span> \n",
              "    Loans and Advances                      <span style=\"color: #008000; text-decoration-color: #008000\">  $80,000.00 </span> \n",
              " <span style=\"font-weight: bold\"> Total assets                             </span> <span style=\"color: #008000; text-decoration-color: #008000; font-weight: bold\"> $110,747.24 </span> \n",
              " ──────────────────────────────────────────────────────── \n",
              " <span style=\"font-weight: bold\"> Liabilities                              </span> <span style=\"color: #008000; text-decoration-color: #008000; font-weight: bold\">             </span> \n",
              "    Deposits and Other Public Borrowings    <span style=\"color: #008000; text-decoration-color: #008000\"> $100,000.00 </span> \n",
              "      Deposits                              <span style=\"color: #008000; text-decoration-color: #008000\"> $100,000.00 </span> \n",
              " <span style=\"font-weight: bold\"> Total liabilities                        </span> <span style=\"color: #008000; text-decoration-color: #008000; font-weight: bold\"> $100,000.00 </span> \n",
              " ──────────────────────────────────────────────────────── \n",
              " <span style=\"font-weight: bold\"> Net assets                               </span> <span style=\"color: #008000; text-decoration-color: #008000; font-weight: bold\">  $10,747.24 </span> \n",
              " ──────────────────────────────────────────────────────── \n",
              " <span style=\"font-weight: bold\"> Shareholders' equity                     </span> <span style=\"color: #008000; text-decoration-color: #008000; font-weight: bold\">             </span> \n",
              "    Shareholders' Equity                    <span style=\"color: #008000; text-decoration-color: #008000\">  $10,000.00 </span> \n",
              "    Retained Earnings                       <span style=\"color: #008000; text-decoration-color: #008000\">     $747.24 </span> \n",
              " <span style=\"font-weight: bold\"> Total shareholders' equity               </span> <span style=\"color: #008000; text-decoration-color: #008000; font-weight: bold\">  $10,747.24 </span> \n",
              " ──────────────────────────────────────────────────────── \n",
              "<span style=\"color: #7f7f7f; text-decoration-color: #7f7f7f; font-style: italic\">                                          Date: 2025-02-26</span>\n",
              "</pre>"
            ]
          }
        }
      ],
      "source": [
        "# For Google Colab:\n",
        "# @title The FVOCI security is sold. {display-mode: \"form\"}\n",
        "from brms.models.transaction import SecuritySaleFVOCITransaction\n",
        "\n",
        "today = today + datetime.timedelta(days=1)\n",
        "# Assume that the market value of the FVOCI security went down by 2%\n",
        "new_fvoci_instrument_value = fvoci_security.value * 0.98\n",
        "valuation_visitor = MockValuationVisitor(new_value=new_fvoci_instrument_value)\n",
        "tx_fvoci_marked_down = TransactionFactory.create_transaction(\n",
        "    bank=bank,\n",
        "    transaction_type=TransactionType.SECURITY_FVOCI_MARK_TO_MARKET,\n",
        "    instrument=fvoci_security,\n",
        "    transaction_date=today,\n",
        "    valuation_visitor=valuation_visitor,\n",
        "    description=\"Mark to market a FVTPL security (down)\",\n",
        ")\n",
        "bank.process_transaction(tx_fvoci_marked_down)\n",
        "# Sale transaction should be created after the previous transaction has been processed\n",
        "tx_fvoci_sale = TransactionFactory.create_transaction(\n",
        "    bank=bank,\n",
        "    transaction_type=TransactionType.SECURITY_SALE_FVOCI,\n",
        "    instrument=fvoci_security,\n",
        "    transaction_date=today,\n",
        "    description=\"Sale of FVOCI security (net loss)\",\n",
        ")\n",
        "bank.process_transaction(tx_fvoci_sale)\n",
        "\n",
        "report = Report(ledger=bank.ledger, viewer=viewer, date=today)\n",
        "report.print_income_statement()\n",
        "print(\"-\" * 80)\n",
        "report.print_balance_sheet()"
      ],
      "id": "74728ccd"
    },
    {
      "cell_type": "markdown",
      "metadata": {},
      "source": [
        "## 5 Summary\n",
        "\n",
        "In this worksop, we have an overview of some simple bank accounting to\n",
        "showcase how various transactions affect a bank’s income statement and\n",
        "balance sheet. This provides a foundational understanding of"
      ],
      "id": "38013926-c327-4929-98c3-764a765b7023"
    }
  ],
  "nbformat": 4,
  "nbformat_minor": 5,
  "metadata": {
    "kernelspec": {
      "name": "python3",
      "display_name": "Python 3 (ipykernel)",
      "language": "python",
      "path": "C:Gao"
    },
    "language_info": {
      "name": "python",
      "codemirror_mode": {
        "name": "ipython",
        "version": "3"
      },
      "file_extension": ".py",
      "mimetype": "text/x-python",
      "nbconvert_exporter": "python",
      "pygments_lexer": "ipython3",
      "version": "3.12.4"
    }
  }
}