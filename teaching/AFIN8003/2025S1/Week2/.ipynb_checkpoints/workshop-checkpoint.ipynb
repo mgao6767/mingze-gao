{
  "cells": [
    {
      "cell_type": "markdown",
      "metadata": {},
      "source": [
        "# AFIN8003 - Workshop 2\n",
        "\n",
        "Banking and Financial Intermediation\n",
        "\n",
        "Dr. Mingze Gao (Department of Applied Finance)  \n",
        "2025-03-06\n",
        "\n",
        "In today’s workshop, we will conduct some group-based activities. You\n",
        "will form a group of 3 to 4 people and collectively work on the assigned\n",
        "tasks. At the end of the workshop, **two groups will be randomly chosen\n",
        "to do a 5-min presentation**.\n",
        "\n",
        "The objective os this workshop is to enhance your analytical, research,\n",
        "and teamwork/presentation skills by working on real-world cases.\n",
        "\n",
        "## Simple banking book accounting\n",
        "\n",
        "To begin with, a simple bank has just been established with\n",
        "shareholders’ contribution of \\$10,000. Its balance sheet is shown as\n",
        "below."
      ],
      "id": "525e27d8-ec70-49be-b7fa-6927b413d943"
    },
    {
      "cell_type": "code",
      "execution_count": 1,
      "metadata": {},
      "outputs": [
        {
          "output_type": "display_data",
          "metadata": {},
          "data": {
            "text/html": [
              "<pre style=\"white-space:pre;overflow-x:auto;line-height:normal;font-family:Menlo,'DejaVu Sans Mono',consolas,'Courier New',monospace\"><span style=\"font-style: italic\">                Balance Sheet                 </span>\n",
              " ──────────────────────────────────────────── \n",
              " <span style=\"font-weight: bold\"> Assets                        </span> <span style=\"color: #008000; text-decoration-color: #008000; font-weight: bold\">            </span> \n",
              "    Cash and Cash Equivalents    <span style=\"color: #008000; text-decoration-color: #008000\"> $10,000.00 </span> \n",
              " <span style=\"font-weight: bold\"> Total assets                  </span> <span style=\"color: #008000; text-decoration-color: #008000; font-weight: bold\"> $10,000.00 </span> \n",
              " ──────────────────────────────────────────── \n",
              " <span style=\"font-weight: bold\"> Liabilities                   </span> <span style=\"color: #008000; text-decoration-color: #008000; font-weight: bold\">            </span> \n",
              " <span style=\"font-weight: bold\"> Total liabilities             </span> <span style=\"color: #008000; text-decoration-color: #008000; font-weight: bold\">      $0.00 </span> \n",
              " ──────────────────────────────────────────── \n",
              " <span style=\"font-weight: bold\"> Net assets                    </span> <span style=\"color: #008000; text-decoration-color: #008000; font-weight: bold\"> $10,000.00 </span> \n",
              " ──────────────────────────────────────────── \n",
              " <span style=\"font-weight: bold\"> Shareholders' equity          </span> <span style=\"color: #008000; text-decoration-color: #008000; font-weight: bold\">            </span> \n",
              "    Shareholders' Equity         <span style=\"color: #008000; text-decoration-color: #008000\"> $10,000.00 </span> \n",
              " <span style=\"font-weight: bold\"> Total shareholders' equity    </span> <span style=\"color: #008000; text-decoration-color: #008000; font-weight: bold\"> $10,000.00 </span> \n",
              " ──────────────────────────────────────────── \n",
              "<span style=\"color: #7f7f7f; text-decoration-color: #7f7f7f; font-style: italic\">                              Date: 2025-01-20</span>\n",
              "</pre>"
            ]
          }
        }
      ],
      "source": [],
      "id": "c8b477bc"
    },
    {
      "cell_type": "markdown",
      "metadata": {},
      "source": [
        "### Customer deposit\n",
        "\n",
        "Now some customers have made some deposits, for example:\n",
        "\n",
        "-   Customer A deposits \\$60,000.\n",
        "-   Customer B deposits \\$40,000.\n",
        "-   Customer C deposits \\$20,000.\n",
        "\n",
        "Notably, customer deposits are the bank’s *liability*. We see an\n",
        "increase in both the bank’s total assets and total liabilities, while\n",
        "total shareholders’ equity remains unchanged."
      ],
      "id": "66434ea7-76ac-4349-a777-9ece59b6cf9d"
    },
    {
      "cell_type": "code",
      "execution_count": 2,
      "metadata": {},
      "outputs": [
        {
          "output_type": "display_data",
          "metadata": {},
          "data": {
            "text/html": [
              "<pre style=\"white-space:pre;overflow-x:auto;line-height:normal;font-family:Menlo,'DejaVu Sans Mono',consolas,'Courier New',monospace\"><span style=\"font-style: italic\">                      Balance Sheet                       </span>\n",
              " ──────────────────────────────────────────────────────── \n",
              " <span style=\"font-weight: bold\"> Assets                                   </span> <span style=\"color: #008000; text-decoration-color: #008000; font-weight: bold\">             </span> \n",
              "    Cash and Cash Equivalents               <span style=\"color: #008000; text-decoration-color: #008000\"> $130,000.00 </span> \n",
              " <span style=\"font-weight: bold\"> Total assets                             </span> <span style=\"color: #008000; text-decoration-color: #008000; font-weight: bold\"> $130,000.00 </span> \n",
              " ──────────────────────────────────────────────────────── \n",
              " <span style=\"font-weight: bold\"> Liabilities                              </span> <span style=\"color: #008000; text-decoration-color: #008000; font-weight: bold\">             </span> \n",
              "    Deposits and Other Public Borrowings    <span style=\"color: #008000; text-decoration-color: #008000\"> $120,000.00 </span> \n",
              "      Deposits                              <span style=\"color: #008000; text-decoration-color: #008000\"> $120,000.00 </span> \n",
              " <span style=\"font-weight: bold\"> Total liabilities                        </span> <span style=\"color: #008000; text-decoration-color: #008000; font-weight: bold\"> $120,000.00 </span> \n",
              " ──────────────────────────────────────────────────────── \n",
              " <span style=\"font-weight: bold\"> Net assets                               </span> <span style=\"color: #008000; text-decoration-color: #008000; font-weight: bold\">  $10,000.00 </span> \n",
              " ──────────────────────────────────────────────────────── \n",
              " <span style=\"font-weight: bold\"> Shareholders' equity                     </span> <span style=\"color: #008000; text-decoration-color: #008000; font-weight: bold\">             </span> \n",
              "    Shareholders' Equity                    <span style=\"color: #008000; text-decoration-color: #008000\">  $10,000.00 </span> \n",
              " <span style=\"font-weight: bold\"> Total shareholders' equity               </span> <span style=\"color: #008000; text-decoration-color: #008000; font-weight: bold\">  $10,000.00 </span> \n",
              " ──────────────────────────────────────────────────────── \n",
              "<span style=\"color: #7f7f7f; text-decoration-color: #7f7f7f; font-style: italic\">                                          Date: 2025-01-20</span>\n",
              "</pre>"
            ]
          }
        }
      ],
      "source": [],
      "id": "ba473bb1"
    },
    {
      "cell_type": "markdown",
      "metadata": {},
      "source": [
        "### Deposit withdraw\n",
        "\n",
        "Depositors can also withdraw from the bank. If Customer C has withdrawn\n",
        "all of their deposits, we see a decrease of cash and deposits."
      ],
      "id": "3a6e2a4e-4e13-4b0f-b521-04771ae4d117"
    },
    {
      "cell_type": "code",
      "execution_count": 3,
      "metadata": {},
      "outputs": [
        {
          "output_type": "display_data",
          "metadata": {},
          "data": {
            "text/html": [
              "<pre style=\"white-space:pre;overflow-x:auto;line-height:normal;font-family:Menlo,'DejaVu Sans Mono',consolas,'Courier New',monospace\"><span style=\"font-style: italic\">                      Balance Sheet                       </span>\n",
              " ──────────────────────────────────────────────────────── \n",
              " <span style=\"font-weight: bold\"> Assets                                   </span> <span style=\"color: #008000; text-decoration-color: #008000; font-weight: bold\">             </span> \n",
              "    Cash and Cash Equivalents               <span style=\"color: #008000; text-decoration-color: #008000\"> $110,000.00 </span> \n",
              " <span style=\"font-weight: bold\"> Total assets                             </span> <span style=\"color: #008000; text-decoration-color: #008000; font-weight: bold\"> $110,000.00 </span> \n",
              " ──────────────────────────────────────────────────────── \n",
              " <span style=\"font-weight: bold\"> Liabilities                              </span> <span style=\"color: #008000; text-decoration-color: #008000; font-weight: bold\">             </span> \n",
              "    Deposits and Other Public Borrowings    <span style=\"color: #008000; text-decoration-color: #008000\"> $100,000.00 </span> \n",
              "      Deposits                              <span style=\"color: #008000; text-decoration-color: #008000\"> $100,000.00 </span> \n",
              " <span style=\"font-weight: bold\"> Total liabilities                        </span> <span style=\"color: #008000; text-decoration-color: #008000; font-weight: bold\"> $100,000.00 </span> \n",
              " ──────────────────────────────────────────────────────── \n",
              " <span style=\"font-weight: bold\"> Net assets                               </span> <span style=\"color: #008000; text-decoration-color: #008000; font-weight: bold\">  $10,000.00 </span> \n",
              " ──────────────────────────────────────────────────────── \n",
              " <span style=\"font-weight: bold\"> Shareholders' equity                     </span> <span style=\"color: #008000; text-decoration-color: #008000; font-weight: bold\">             </span> \n",
              "    Shareholders' Equity                    <span style=\"color: #008000; text-decoration-color: #008000\">  $10,000.00 </span> \n",
              " <span style=\"font-weight: bold\"> Total shareholders' equity               </span> <span style=\"color: #008000; text-decoration-color: #008000; font-weight: bold\">  $10,000.00 </span> \n",
              " ──────────────────────────────────────────────────────── \n",
              "<span style=\"color: #7f7f7f; text-decoration-color: #7f7f7f; font-style: italic\">                                          Date: 2025-01-20</span>\n",
              "</pre>"
            ]
          }
        }
      ],
      "source": [],
      "id": "e5203fe1"
    },
    {
      "cell_type": "markdown",
      "metadata": {},
      "source": [
        "### Loan disbursement\n",
        "\n",
        "Of course, the typical business of a bank is to make loans. Let’s assume\n",
        "the bank has made an (interest-only) loan of \\$80,000 to some borrowers."
      ],
      "id": "6e671ae1-1f86-4fb6-aebb-c66697b5bc84"
    },
    {
      "cell_type": "code",
      "execution_count": 4,
      "metadata": {},
      "outputs": [
        {
          "output_type": "display_data",
          "metadata": {},
          "data": {
            "text/html": [
              "<pre style=\"white-space:pre;overflow-x:auto;line-height:normal;font-family:Menlo,'DejaVu Sans Mono',consolas,'Courier New',monospace\"><span style=\"font-style: italic\">                      Balance Sheet                       </span>\n",
              " ──────────────────────────────────────────────────────── \n",
              " <span style=\"font-weight: bold\"> Assets                                   </span> <span style=\"color: #008000; text-decoration-color: #008000; font-weight: bold\">             </span> \n",
              "    Cash and Cash Equivalents               <span style=\"color: #008000; text-decoration-color: #008000\">  $30,000.00 </span> \n",
              "    Loans and Advances                      <span style=\"color: #008000; text-decoration-color: #008000\">  $80,000.00 </span> \n",
              " <span style=\"font-weight: bold\"> Total assets                             </span> <span style=\"color: #008000; text-decoration-color: #008000; font-weight: bold\"> $110,000.00 </span> \n",
              " ──────────────────────────────────────────────────────── \n",
              " <span style=\"font-weight: bold\"> Liabilities                              </span> <span style=\"color: #008000; text-decoration-color: #008000; font-weight: bold\">             </span> \n",
              "    Deposits and Other Public Borrowings    <span style=\"color: #008000; text-decoration-color: #008000\"> $100,000.00 </span> \n",
              "      Deposits                              <span style=\"color: #008000; text-decoration-color: #008000\"> $100,000.00 </span> \n",
              " <span style=\"font-weight: bold\"> Total liabilities                        </span> <span style=\"color: #008000; text-decoration-color: #008000; font-weight: bold\"> $100,000.00 </span> \n",
              " ──────────────────────────────────────────────────────── \n",
              " <span style=\"font-weight: bold\"> Net assets                               </span> <span style=\"color: #008000; text-decoration-color: #008000; font-weight: bold\">  $10,000.00 </span> \n",
              " ──────────────────────────────────────────────────────── \n",
              " <span style=\"font-weight: bold\"> Shareholders' equity                     </span> <span style=\"color: #008000; text-decoration-color: #008000; font-weight: bold\">             </span> \n",
              "    Shareholders' Equity                    <span style=\"color: #008000; text-decoration-color: #008000\">  $10,000.00 </span> \n",
              " <span style=\"font-weight: bold\"> Total shareholders' equity               </span> <span style=\"color: #008000; text-decoration-color: #008000; font-weight: bold\">  $10,000.00 </span> \n",
              " ──────────────────────────────────────────────────────── \n",
              "<span style=\"color: #7f7f7f; text-decoration-color: #7f7f7f; font-style: italic\">                                          Date: 2025-01-20</span>\n",
              "</pre>"
            ]
          }
        }
      ],
      "source": [],
      "id": "ca95a0b7"
    },
    {
      "cell_type": "markdown",
      "metadata": {},
      "source": [
        "### Interest paid on deposits\n",
        "\n",
        "After some time (e.g., a month), the bank may need to pay interest on\n",
        "customers’ deposits, e.g., \\$100.\n",
        "\n",
        "> **Tip**\n",
        ">\n",
        "> **Income Statement** is included given that we’d like to know the\n",
        "> profit and loss (P&L) of the bank over the period."
      ],
      "id": "16b8c220-e51b-400e-a13a-2bcbd21b8771"
    },
    {
      "cell_type": "code",
      "execution_count": 5,
      "metadata": {},
      "outputs": [
        {
          "output_type": "display_data",
          "metadata": {},
          "data": {
            "text/html": [
              "<pre style=\"white-space:pre;overflow-x:auto;line-height:normal;font-family:Menlo,'DejaVu Sans Mono',consolas,'Courier New',monospace\"><span style=\"font-style: italic\">          Income Statement          </span>\n",
              " ────────────────────────────────── \n",
              " <span style=\"font-weight: bold\"> Income               </span> <span style=\"color: #008000; text-decoration-color: #008000; font-weight: bold\">     $0.00 </span> \n",
              " ────────────────────────────────── \n",
              " <span style=\"font-weight: bold\"> Expense              </span> <span style=\"color: #008000; text-decoration-color: #008000; font-weight: bold\">   $100.00 </span> \n",
              "    Interest Expense    <span style=\"color: #008000; text-decoration-color: #008000\">   $100.00 </span> \n",
              " ────────────────────────────────── \n",
              " <span style=\"font-weight: bold\"> Profit               </span> <span style=\"color: #008000; text-decoration-color: #008000; font-weight: bold\"> </span><span style=\"color: #800000; text-decoration-color: #800000; font-weight: bold\">($100.00)</span><span style=\"color: #008000; text-decoration-color: #008000; font-weight: bold\"> </span> \n",
              " ────────────────────────────────── \n",
              "<span style=\"color: #7f7f7f; text-decoration-color: #7f7f7f; font-style: italic\">                    Date: 2025-02-20</span>\n",
              "</pre>"
            ]
          }
        },
        {
          "output_type": "stream",
          "name": "stdout",
          "text": [
            "--------------------------------------------------------------------------------"
          ]
        },
        {
          "output_type": "display_data",
          "metadata": {},
          "data": {
            "text/html": [
              "<pre style=\"white-space:pre;overflow-x:auto;line-height:normal;font-family:Menlo,'DejaVu Sans Mono',consolas,'Courier New',monospace\"><span style=\"font-style: italic\">                      Balance Sheet                       </span>\n",
              " ──────────────────────────────────────────────────────── \n",
              " <span style=\"font-weight: bold\"> Assets                                   </span> <span style=\"color: #008000; text-decoration-color: #008000; font-weight: bold\">             </span> \n",
              "    Cash and Cash Equivalents               <span style=\"color: #008000; text-decoration-color: #008000\">  $29,900.00 </span> \n",
              "    Loans and Advances                      <span style=\"color: #008000; text-decoration-color: #008000\">  $80,000.00 </span> \n",
              " <span style=\"font-weight: bold\"> Total assets                             </span> <span style=\"color: #008000; text-decoration-color: #008000; font-weight: bold\"> $109,900.00 </span> \n",
              " ──────────────────────────────────────────────────────── \n",
              " <span style=\"font-weight: bold\"> Liabilities                              </span> <span style=\"color: #008000; text-decoration-color: #008000; font-weight: bold\">             </span> \n",
              "    Deposits and Other Public Borrowings    <span style=\"color: #008000; text-decoration-color: #008000\"> $100,000.00 </span> \n",
              "      Deposits                              <span style=\"color: #008000; text-decoration-color: #008000\"> $100,000.00 </span> \n",
              " <span style=\"font-weight: bold\"> Total liabilities                        </span> <span style=\"color: #008000; text-decoration-color: #008000; font-weight: bold\"> $100,000.00 </span> \n",
              " ──────────────────────────────────────────────────────── \n",
              " <span style=\"font-weight: bold\"> Net assets                               </span> <span style=\"color: #008000; text-decoration-color: #008000; font-weight: bold\">   $9,900.00 </span> \n",
              " ──────────────────────────────────────────────────────── \n",
              " <span style=\"font-weight: bold\"> Shareholders' equity                     </span> <span style=\"color: #008000; text-decoration-color: #008000; font-weight: bold\">             </span> \n",
              "    Shareholders' Equity                    <span style=\"color: #008000; text-decoration-color: #008000\">  $10,000.00 </span> \n",
              "    Retained Earnings                       <span style=\"color: #008000; text-decoration-color: #008000\"> </span><span style=\"color: #800000; text-decoration-color: #800000\">  ($100.00)</span><span style=\"color: #008000; text-decoration-color: #008000\"> </span> \n",
              " <span style=\"font-weight: bold\"> Total shareholders' equity               </span> <span style=\"color: #008000; text-decoration-color: #008000; font-weight: bold\">   $9,900.00 </span> \n",
              " ──────────────────────────────────────────────────────── \n",
              "<span style=\"color: #7f7f7f; text-decoration-color: #7f7f7f; font-style: italic\">                                          Date: 2025-02-20</span>\n",
              "</pre>"
            ]
          }
        }
      ],
      "source": [],
      "id": "9057192c"
    },
    {
      "cell_type": "markdown",
      "metadata": {},
      "source": [
        "If the bank has only paid interest on deposits over this period, it\n",
        "surely has a net loss or negative profit as shown above. However, it is\n",
        "more reasonable that the bank also has earned some profits during the\n",
        "same time, especially because it has made some loans.\n",
        "\n",
        "### Loan interest income\n",
        "\n",
        "Suppose that over the 1-month period, the bank has earned some interest\n",
        "income from the loans made earlier, e.g., for a total of \\$800."
      ],
      "id": "d6942db1-5e87-44fd-a7cb-edbb0cf84737"
    },
    {
      "cell_type": "code",
      "execution_count": 6,
      "metadata": {},
      "outputs": [
        {
          "output_type": "display_data",
          "metadata": {},
          "data": {
            "text/html": [
              "<pre style=\"white-space:pre;overflow-x:auto;line-height:normal;font-family:Menlo,'DejaVu Sans Mono',consolas,'Courier New',monospace\"><span style=\"font-style: italic\">         Income Statement         </span>\n",
              " ──────────────────────────────── \n",
              " <span style=\"font-weight: bold\"> Income               </span> <span style=\"color: #008000; text-decoration-color: #008000; font-weight: bold\"> $800.00 </span> \n",
              "    Interest Income     <span style=\"color: #008000; text-decoration-color: #008000\"> $800.00 </span> \n",
              " ──────────────────────────────── \n",
              " <span style=\"font-weight: bold\"> Expense              </span> <span style=\"color: #008000; text-decoration-color: #008000; font-weight: bold\"> $100.00 </span> \n",
              "    Interest Expense    <span style=\"color: #008000; text-decoration-color: #008000\"> $100.00 </span> \n",
              " ──────────────────────────────── \n",
              " <span style=\"font-weight: bold\"> Profit               </span> <span style=\"color: #008000; text-decoration-color: #008000; font-weight: bold\"> $700.00 </span> \n",
              " ──────────────────────────────── \n",
              "<span style=\"color: #7f7f7f; text-decoration-color: #7f7f7f; font-style: italic\">                  Date: 2025-02-20</span>\n",
              "</pre>"
            ]
          }
        },
        {
          "output_type": "stream",
          "name": "stdout",
          "text": [
            "--------------------------------------------------------------------------------"
          ]
        },
        {
          "output_type": "display_data",
          "metadata": {},
          "data": {
            "text/html": [
              "<pre style=\"white-space:pre;overflow-x:auto;line-height:normal;font-family:Menlo,'DejaVu Sans Mono',consolas,'Courier New',monospace\"><span style=\"font-style: italic\">                      Balance Sheet                       </span>\n",
              " ──────────────────────────────────────────────────────── \n",
              " <span style=\"font-weight: bold\"> Assets                                   </span> <span style=\"color: #008000; text-decoration-color: #008000; font-weight: bold\">             </span> \n",
              "    Cash and Cash Equivalents               <span style=\"color: #008000; text-decoration-color: #008000\">  $30,700.00 </span> \n",
              "    Loans and Advances                      <span style=\"color: #008000; text-decoration-color: #008000\">  $80,000.00 </span> \n",
              " <span style=\"font-weight: bold\"> Total assets                             </span> <span style=\"color: #008000; text-decoration-color: #008000; font-weight: bold\"> $110,700.00 </span> \n",
              " ──────────────────────────────────────────────────────── \n",
              " <span style=\"font-weight: bold\"> Liabilities                              </span> <span style=\"color: #008000; text-decoration-color: #008000; font-weight: bold\">             </span> \n",
              "    Deposits and Other Public Borrowings    <span style=\"color: #008000; text-decoration-color: #008000\"> $100,000.00 </span> \n",
              "      Deposits                              <span style=\"color: #008000; text-decoration-color: #008000\"> $100,000.00 </span> \n",
              " <span style=\"font-weight: bold\"> Total liabilities                        </span> <span style=\"color: #008000; text-decoration-color: #008000; font-weight: bold\"> $100,000.00 </span> \n",
              " ──────────────────────────────────────────────────────── \n",
              " <span style=\"font-weight: bold\"> Net assets                               </span> <span style=\"color: #008000; text-decoration-color: #008000; font-weight: bold\">  $10,700.00 </span> \n",
              " ──────────────────────────────────────────────────────── \n",
              " <span style=\"font-weight: bold\"> Shareholders' equity                     </span> <span style=\"color: #008000; text-decoration-color: #008000; font-weight: bold\">             </span> \n",
              "    Shareholders' Equity                    <span style=\"color: #008000; text-decoration-color: #008000\">  $10,000.00 </span> \n",
              "    Retained Earnings                       <span style=\"color: #008000; text-decoration-color: #008000\">     $700.00 </span> \n",
              " <span style=\"font-weight: bold\"> Total shareholders' equity               </span> <span style=\"color: #008000; text-decoration-color: #008000; font-weight: bold\">  $10,700.00 </span> \n",
              " ──────────────────────────────────────────────────────── \n",
              "<span style=\"color: #7f7f7f; text-decoration-color: #7f7f7f; font-style: italic\">                                          Date: 2025-02-20</span>\n",
              "</pre>"
            ]
          }
        }
      ],
      "source": [],
      "id": "c6407230"
    },
    {
      "cell_type": "markdown",
      "metadata": {},
      "source": [
        "Overall, the bank has a net profit of \\$700. We can observe that the\n",
        "bank’s **Retained Earnings** has increased by \\$700, too.\n",
        "\n",
        "## Intermediate trading book accounting\n",
        "\n",
        "Those transactions and non-transactions above all occur to the bank’s\n",
        "**banking book**.\n",
        "\n",
        "However, a bank also has a **trading book** that holds securities for\n",
        "short-term trading P&L purposes. These instruments are named **Fair\n",
        "Value Through Profit and Loss (FVTPL)**.\n",
        "\n",
        "Accounting for trading book securities is relatively easy.\n",
        "\n",
        "### FVTPL security purchase\n",
        "\n",
        "Assume that the bank just purchased a FVTPL security for its trading\n",
        "book at its fair value of \\$10,000."
      ],
      "id": "f4c6555e-7e49-4b94-8743-c1ebd0dab422"
    },
    {
      "cell_type": "code",
      "execution_count": 7,
      "metadata": {},
      "outputs": [
        {
          "output_type": "display_data",
          "metadata": {},
          "data": {
            "text/html": [
              "<pre style=\"white-space:pre;overflow-x:auto;line-height:normal;font-family:Menlo,'DejaVu Sans Mono',consolas,'Courier New',monospace\"><span style=\"font-style: italic\">                      Balance Sheet                       </span>\n",
              " ──────────────────────────────────────────────────────── \n",
              " <span style=\"font-weight: bold\"> Assets                                   </span> <span style=\"color: #008000; text-decoration-color: #008000; font-weight: bold\">             </span> \n",
              "    Cash and Cash Equivalents               <span style=\"color: #008000; text-decoration-color: #008000\">  $20,700.00 </span> \n",
              "    Loans and Advances                      <span style=\"color: #008000; text-decoration-color: #008000\">  $80,000.00 </span> \n",
              "    Assets at FVTPL                         <span style=\"color: #008000; text-decoration-color: #008000\">  $10,000.00 </span> \n",
              " <span style=\"font-weight: bold\"> Total assets                             </span> <span style=\"color: #008000; text-decoration-color: #008000; font-weight: bold\"> $110,700.00 </span> \n",
              " ──────────────────────────────────────────────────────── \n",
              " <span style=\"font-weight: bold\"> Liabilities                              </span> <span style=\"color: #008000; text-decoration-color: #008000; font-weight: bold\">             </span> \n",
              "    Deposits and Other Public Borrowings    <span style=\"color: #008000; text-decoration-color: #008000\"> $100,000.00 </span> \n",
              "      Deposits                              <span style=\"color: #008000; text-decoration-color: #008000\"> $100,000.00 </span> \n",
              " <span style=\"font-weight: bold\"> Total liabilities                        </span> <span style=\"color: #008000; text-decoration-color: #008000; font-weight: bold\"> $100,000.00 </span> \n",
              " ──────────────────────────────────────────────────────── \n",
              " <span style=\"font-weight: bold\"> Net assets                               </span> <span style=\"color: #008000; text-decoration-color: #008000; font-weight: bold\">  $10,700.00 </span> \n",
              " ──────────────────────────────────────────────────────── \n",
              " <span style=\"font-weight: bold\"> Shareholders' equity                     </span> <span style=\"color: #008000; text-decoration-color: #008000; font-weight: bold\">             </span> \n",
              "    Shareholders' Equity                    <span style=\"color: #008000; text-decoration-color: #008000\">  $10,000.00 </span> \n",
              "    Retained Earnings                       <span style=\"color: #008000; text-decoration-color: #008000\">     $700.00 </span> \n",
              " <span style=\"font-weight: bold\"> Total shareholders' equity               </span> <span style=\"color: #008000; text-decoration-color: #008000; font-weight: bold\">  $10,700.00 </span> \n",
              " ──────────────────────────────────────────────────────── \n",
              "<span style=\"color: #7f7f7f; text-decoration-color: #7f7f7f; font-style: italic\">                                          Date: 2025-02-20</span>\n",
              "</pre>"
            ]
          }
        }
      ],
      "source": [],
      "id": "68f77e96"
    },
    {
      "cell_type": "markdown",
      "metadata": {},
      "source": [
        "The fair value of the security is recorded on the balance sheet under\n",
        "the *Assets at FVTPL* account.\n",
        "\n",
        "### FVTPL security marking to market\n",
        "\n",
        "The *fair value* of FVTPL security is *marked to market* periodically,\n",
        "e.g., daily. This ensures consistency in that they are held for trading\n",
        "P&N in the first place.\n",
        "\n",
        "#### Unrealized trading loss\n",
        "\n",
        "If the market value of the security went down by 5% (\\$500) the next\n",
        "day, we need to recognize this *unrealized trading loss* in the Income\n",
        "Statement."
      ],
      "id": "d54eedd1-a7ee-4909-ac5c-11fcebcdff25"
    },
    {
      "cell_type": "code",
      "execution_count": 8,
      "metadata": {},
      "outputs": [
        {
          "output_type": "display_data",
          "metadata": {},
          "data": {
            "text/html": [
              "<pre style=\"white-space:pre;overflow-x:auto;line-height:normal;font-family:Menlo,'DejaVu Sans Mono',consolas,'Courier New',monospace\"><span style=\"font-style: italic\">               Income Statement                </span>\n",
              " ───────────────────────────────────────────── \n",
              " <span style=\"font-weight: bold\"> Income                          </span> <span style=\"color: #008000; text-decoration-color: #008000; font-weight: bold\">   $300.00 </span> \n",
              "    Interest Income                <span style=\"color: #008000; text-decoration-color: #008000\">   $800.00 </span> \n",
              "    Trading Income (FVTPL)         <span style=\"color: #008000; text-decoration-color: #008000\"> </span><span style=\"color: #800000; text-decoration-color: #800000\">($500.00)</span><span style=\"color: #008000; text-decoration-color: #008000\"> </span> \n",
              "      Unrealized Trading Loss      <span style=\"color: #008000; text-decoration-color: #008000\">   $500.00 </span> \n",
              " ───────────────────────────────────────────── \n",
              " <span style=\"font-weight: bold\"> Expense                         </span> <span style=\"color: #008000; text-decoration-color: #008000; font-weight: bold\">   $100.00 </span> \n",
              "    Interest Expense               <span style=\"color: #008000; text-decoration-color: #008000\">   $100.00 </span> \n",
              " ───────────────────────────────────────────── \n",
              " <span style=\"font-weight: bold\"> Profit                          </span> <span style=\"color: #008000; text-decoration-color: #008000; font-weight: bold\">   $200.00 </span> \n",
              " ───────────────────────────────────────────── \n",
              "<span style=\"color: #7f7f7f; text-decoration-color: #7f7f7f; font-style: italic\">                               Date: 2025-02-21</span>\n",
              "</pre>"
            ]
          }
        },
        {
          "output_type": "stream",
          "name": "stdout",
          "text": [
            "--------------------------------------------------------------------------------"
          ]
        },
        {
          "output_type": "display_data",
          "metadata": {},
          "data": {
            "text/html": [
              "<pre style=\"white-space:pre;overflow-x:auto;line-height:normal;font-family:Menlo,'DejaVu Sans Mono',consolas,'Courier New',monospace\"><span style=\"font-style: italic\">                      Balance Sheet                       </span>\n",
              " ──────────────────────────────────────────────────────── \n",
              " <span style=\"font-weight: bold\"> Assets                                   </span> <span style=\"color: #008000; text-decoration-color: #008000; font-weight: bold\">             </span> \n",
              "    Cash and Cash Equivalents               <span style=\"color: #008000; text-decoration-color: #008000\">  $20,700.00 </span> \n",
              "    Loans and Advances                      <span style=\"color: #008000; text-decoration-color: #008000\">  $80,000.00 </span> \n",
              "    Assets at FVTPL                         <span style=\"color: #008000; text-decoration-color: #008000\">   $9,500.00 </span> \n",
              " <span style=\"font-weight: bold\"> Total assets                             </span> <span style=\"color: #008000; text-decoration-color: #008000; font-weight: bold\"> $110,200.00 </span> \n",
              " ──────────────────────────────────────────────────────── \n",
              " <span style=\"font-weight: bold\"> Liabilities                              </span> <span style=\"color: #008000; text-decoration-color: #008000; font-weight: bold\">             </span> \n",
              "    Deposits and Other Public Borrowings    <span style=\"color: #008000; text-decoration-color: #008000\"> $100,000.00 </span> \n",
              "      Deposits                              <span style=\"color: #008000; text-decoration-color: #008000\"> $100,000.00 </span> \n",
              " <span style=\"font-weight: bold\"> Total liabilities                        </span> <span style=\"color: #008000; text-decoration-color: #008000; font-weight: bold\"> $100,000.00 </span> \n",
              " ──────────────────────────────────────────────────────── \n",
              " <span style=\"font-weight: bold\"> Net assets                               </span> <span style=\"color: #008000; text-decoration-color: #008000; font-weight: bold\">  $10,200.00 </span> \n",
              " ──────────────────────────────────────────────────────── \n",
              " <span style=\"font-weight: bold\"> Shareholders' equity                     </span> <span style=\"color: #008000; text-decoration-color: #008000; font-weight: bold\">             </span> \n",
              "    Shareholders' Equity                    <span style=\"color: #008000; text-decoration-color: #008000\">  $10,000.00 </span> \n",
              "    Retained Earnings                       <span style=\"color: #008000; text-decoration-color: #008000\">     $200.00 </span> \n",
              " <span style=\"font-weight: bold\"> Total shareholders' equity               </span> <span style=\"color: #008000; text-decoration-color: #008000; font-weight: bold\">  $10,200.00 </span> \n",
              " ──────────────────────────────────────────────────────── \n",
              "<span style=\"color: #7f7f7f; text-decoration-color: #7f7f7f; font-style: italic\">                                          Date: 2025-02-21</span>\n",
              "</pre>"
            ]
          }
        }
      ],
      "source": [],
      "id": "00d917db"
    },
    {
      "cell_type": "markdown",
      "metadata": {},
      "source": [
        "> **Important**\n",
        ">\n",
        "> Usually, financial reports are generated at a period’s end, such as\n",
        "> quarter’s end or year’s end. What’s shown here should be viewed as\n",
        "> *what if we close the bank’s accounting ledger at this time and\n",
        "> generate the reports?*\n",
        ">\n",
        "> If we were to generate the balance sheet now, such net trading loss\n",
        "> would reduce the bank’s retained earnings.\n",
        "\n",
        "#### Unrealized trading gain\n",
        "\n",
        "The day after, if the market value of the security went up by 10%\n",
        "(\\$950), we need to recognize this *unrealized trading gain*."
      ],
      "id": "da23162e-5017-4cb5-b933-57e98768a84b"
    },
    {
      "cell_type": "code",
      "execution_count": 9,
      "metadata": {},
      "outputs": [
        {
          "output_type": "display_data",
          "metadata": {},
          "data": {
            "text/html": [
              "<pre style=\"white-space:pre;overflow-x:auto;line-height:normal;font-family:Menlo,'DejaVu Sans Mono',consolas,'Courier New',monospace\"><span style=\"font-style: italic\">               Income Statement                </span>\n",
              " ───────────────────────────────────────────── \n",
              " <span style=\"font-weight: bold\"> Income                          </span> <span style=\"color: #008000; text-decoration-color: #008000; font-weight: bold\"> $1,250.00 </span> \n",
              "    Interest Income                <span style=\"color: #008000; text-decoration-color: #008000\">   $800.00 </span> \n",
              "    Trading Income (FVTPL)         <span style=\"color: #008000; text-decoration-color: #008000\">   $450.00 </span> \n",
              "      Unrealized Trading Gain      <span style=\"color: #008000; text-decoration-color: #008000\">   $950.00 </span> \n",
              "      Unrealized Trading Loss      <span style=\"color: #008000; text-decoration-color: #008000\">   $500.00 </span> \n",
              " ───────────────────────────────────────────── \n",
              " <span style=\"font-weight: bold\"> Expense                         </span> <span style=\"color: #008000; text-decoration-color: #008000; font-weight: bold\">   $100.00 </span> \n",
              "    Interest Expense               <span style=\"color: #008000; text-decoration-color: #008000\">   $100.00 </span> \n",
              " ───────────────────────────────────────────── \n",
              " <span style=\"font-weight: bold\"> Profit                          </span> <span style=\"color: #008000; text-decoration-color: #008000; font-weight: bold\"> $1,150.00 </span> \n",
              " ───────────────────────────────────────────── \n",
              "<span style=\"color: #7f7f7f; text-decoration-color: #7f7f7f; font-style: italic\">                               Date: 2025-02-22</span>\n",
              "</pre>"
            ]
          }
        },
        {
          "output_type": "stream",
          "name": "stdout",
          "text": [
            "--------------------------------------------------------------------------------"
          ]
        },
        {
          "output_type": "display_data",
          "metadata": {},
          "data": {
            "text/html": [
              "<pre style=\"white-space:pre;overflow-x:auto;line-height:normal;font-family:Menlo,'DejaVu Sans Mono',consolas,'Courier New',monospace\"><span style=\"font-style: italic\">                      Balance Sheet                       </span>\n",
              " ──────────────────────────────────────────────────────── \n",
              " <span style=\"font-weight: bold\"> Assets                                   </span> <span style=\"color: #008000; text-decoration-color: #008000; font-weight: bold\">             </span> \n",
              "    Cash and Cash Equivalents               <span style=\"color: #008000; text-decoration-color: #008000\">  $20,700.00 </span> \n",
              "    Loans and Advances                      <span style=\"color: #008000; text-decoration-color: #008000\">  $80,000.00 </span> \n",
              "    Assets at FVTPL                         <span style=\"color: #008000; text-decoration-color: #008000\">  $10,450.00 </span> \n",
              " <span style=\"font-weight: bold\"> Total assets                             </span> <span style=\"color: #008000; text-decoration-color: #008000; font-weight: bold\"> $111,150.00 </span> \n",
              " ──────────────────────────────────────────────────────── \n",
              " <span style=\"font-weight: bold\"> Liabilities                              </span> <span style=\"color: #008000; text-decoration-color: #008000; font-weight: bold\">             </span> \n",
              "    Deposits and Other Public Borrowings    <span style=\"color: #008000; text-decoration-color: #008000\"> $100,000.00 </span> \n",
              "      Deposits                              <span style=\"color: #008000; text-decoration-color: #008000\"> $100,000.00 </span> \n",
              " <span style=\"font-weight: bold\"> Total liabilities                        </span> <span style=\"color: #008000; text-decoration-color: #008000; font-weight: bold\"> $100,000.00 </span> \n",
              " ──────────────────────────────────────────────────────── \n",
              " <span style=\"font-weight: bold\"> Net assets                               </span> <span style=\"color: #008000; text-decoration-color: #008000; font-weight: bold\">  $11,150.00 </span> \n",
              " ──────────────────────────────────────────────────────── \n",
              " <span style=\"font-weight: bold\"> Shareholders' equity                     </span> <span style=\"color: #008000; text-decoration-color: #008000; font-weight: bold\">             </span> \n",
              "    Shareholders' Equity                    <span style=\"color: #008000; text-decoration-color: #008000\">  $10,000.00 </span> \n",
              "    Retained Earnings                       <span style=\"color: #008000; text-decoration-color: #008000\">   $1,150.00 </span> \n",
              " <span style=\"font-weight: bold\"> Total shareholders' equity               </span> <span style=\"color: #008000; text-decoration-color: #008000; font-weight: bold\">  $11,150.00 </span> \n",
              " ──────────────────────────────────────────────────────── \n",
              "<span style=\"color: #7f7f7f; text-decoration-color: #7f7f7f; font-style: italic\">                                          Date: 2025-02-22</span>\n",
              "</pre>"
            ]
          }
        }
      ],
      "source": [],
      "id": "367c3f4a"
    },
    {
      "cell_type": "markdown",
      "metadata": {},
      "source": [
        "Again, if we were to close the bank’s accounting ledger now and check\n",
        "its balance sheet, we will see changes of the bank’s retained earnings.\n",
        "\n",
        "### FVTPL security sale\n",
        "\n",
        "The next day, if the bank sold the security at the prevailing market\n",
        "price (assumed 2% up), we recognize *realized trading gain*.\n",
        "\n",
        "Tracking the P&L of this particular FVTPL security,\n",
        "\n",
        "1.  On day 1, we had a loss of \\$500 (\\$10,000 \\* 0.95 = \\$9,500).\n",
        "2.  On day 2, we had a gain of \\$950 (\\$9,500 \\* 1.1 = \\$10,450).\n",
        "3.  On day 3, we had a gain of \\$209 (\\$10,450 \\* 1.02 = \\$10,659).\n",
        "\n",
        "The total P&L from this security is therefore a net gain of \\$659, which\n",
        "shows up in the Income Statement.\n",
        "\n",
        "> **Note**\n",
        ">\n",
        "> Because of the sale, the unrealized trading gain/loss associated with\n",
        "> this security must be reclassified to realized gain/loss."
      ],
      "id": "696245ac-6633-4e94-8b0f-f7f8d23ce381"
    },
    {
      "cell_type": "code",
      "execution_count": 10,
      "metadata": {},
      "outputs": [
        {
          "output_type": "display_data",
          "metadata": {},
          "data": {
            "text/html": [
              "<pre style=\"white-space:pre;overflow-x:auto;line-height:normal;font-family:Menlo,'DejaVu Sans Mono',consolas,'Courier New',monospace\"><span style=\"font-style: italic\">              Income Statement               </span>\n",
              " ─────────────────────────────────────────── \n",
              " <span style=\"font-weight: bold\"> Income                        </span> <span style=\"color: #008000; text-decoration-color: #008000; font-weight: bold\"> $1,459.00 </span> \n",
              "    Interest Income              <span style=\"color: #008000; text-decoration-color: #008000\">   $800.00 </span> \n",
              "    Trading Income (FVTPL)       <span style=\"color: #008000; text-decoration-color: #008000\">   $659.00 </span> \n",
              "      Realized Trading Gain      <span style=\"color: #008000; text-decoration-color: #008000\"> $1,159.00 </span> \n",
              "      Realized Trading Loss      <span style=\"color: #008000; text-decoration-color: #008000\">   $500.00 </span> \n",
              " ─────────────────────────────────────────── \n",
              " <span style=\"font-weight: bold\"> Expense                       </span> <span style=\"color: #008000; text-decoration-color: #008000; font-weight: bold\">   $100.00 </span> \n",
              "    Interest Expense             <span style=\"color: #008000; text-decoration-color: #008000\">   $100.00 </span> \n",
              " ─────────────────────────────────────────── \n",
              " <span style=\"font-weight: bold\"> Profit                        </span> <span style=\"color: #008000; text-decoration-color: #008000; font-weight: bold\"> $1,359.00 </span> \n",
              " ─────────────────────────────────────────── \n",
              "<span style=\"color: #7f7f7f; text-decoration-color: #7f7f7f; font-style: italic\">                             Date: 2025-02-23</span>\n",
              "</pre>"
            ]
          }
        },
        {
          "output_type": "stream",
          "name": "stdout",
          "text": [
            "--------------------------------------------------------------------------------"
          ]
        },
        {
          "output_type": "display_data",
          "metadata": {},
          "data": {
            "text/html": [
              "<pre style=\"white-space:pre;overflow-x:auto;line-height:normal;font-family:Menlo,'DejaVu Sans Mono',consolas,'Courier New',monospace\"><span style=\"font-style: italic\">                      Balance Sheet                       </span>\n",
              " ──────────────────────────────────────────────────────── \n",
              " <span style=\"font-weight: bold\"> Assets                                   </span> <span style=\"color: #008000; text-decoration-color: #008000; font-weight: bold\">             </span> \n",
              "    Cash and Cash Equivalents               <span style=\"color: #008000; text-decoration-color: #008000\">  $31,359.00 </span> \n",
              "    Loans and Advances                      <span style=\"color: #008000; text-decoration-color: #008000\">  $80,000.00 </span> \n",
              " <span style=\"font-weight: bold\"> Total assets                             </span> <span style=\"color: #008000; text-decoration-color: #008000; font-weight: bold\"> $111,359.00 </span> \n",
              " ──────────────────────────────────────────────────────── \n",
              " <span style=\"font-weight: bold\"> Liabilities                              </span> <span style=\"color: #008000; text-decoration-color: #008000; font-weight: bold\">             </span> \n",
              "    Deposits and Other Public Borrowings    <span style=\"color: #008000; text-decoration-color: #008000\"> $100,000.00 </span> \n",
              "      Deposits                              <span style=\"color: #008000; text-decoration-color: #008000\"> $100,000.00 </span> \n",
              " <span style=\"font-weight: bold\"> Total liabilities                        </span> <span style=\"color: #008000; text-decoration-color: #008000; font-weight: bold\"> $100,000.00 </span> \n",
              " ──────────────────────────────────────────────────────── \n",
              " <span style=\"font-weight: bold\"> Net assets                               </span> <span style=\"color: #008000; text-decoration-color: #008000; font-weight: bold\">  $11,359.00 </span> \n",
              " ──────────────────────────────────────────────────────── \n",
              " <span style=\"font-weight: bold\"> Shareholders' equity                     </span> <span style=\"color: #008000; text-decoration-color: #008000; font-weight: bold\">             </span> \n",
              "    Shareholders' Equity                    <span style=\"color: #008000; text-decoration-color: #008000\">  $10,000.00 </span> \n",
              "    Retained Earnings                       <span style=\"color: #008000; text-decoration-color: #008000\">   $1,359.00 </span> \n",
              " <span style=\"font-weight: bold\"> Total shareholders' equity               </span> <span style=\"color: #008000; text-decoration-color: #008000; font-weight: bold\">  $11,359.00 </span> \n",
              " ──────────────────────────────────────────────────────── \n",
              "<span style=\"color: #7f7f7f; text-decoration-color: #7f7f7f; font-style: italic\">                                          Date: 2025-02-23</span>\n",
              "</pre>"
            ]
          }
        }
      ],
      "source": [],
      "id": "5a816f19"
    },
    {
      "cell_type": "markdown",
      "metadata": {},
      "source": [
        "Compare this balance sheet to the one before the bank purchased this\n",
        "FVTPL security, the retained earnings increased by exactly \\$659.\n",
        "\n",
        "## Intermediate banking book accounting\n",
        "\n",
        "Apart from loans, a bank’s banking book contains other assets that are\n",
        "held mostly for interest income. However, depending on whether the bank\n",
        "intends to hold them until maturity, these non-loan banking book assets\n",
        "can be either:\n",
        "\n",
        "1.  **Fair Value Through Other Comprehensive Income (FVOCI)**, or\n",
        "2.  **At Amortized Cost** or Held to Maturity (HTM).\n",
        "\n",
        "For example, Treasury bonds, corporate bonds, MBS, etc., are usually\n",
        "FVOCI or HTM banking book assets.\n",
        "\n",
        "### FVOCI security purchase\n",
        "\n",
        "FVOCI assets in the banking book are typically debt securities that:\n",
        "\n",
        "-   Earn interest income for the bank.\n",
        "-   Can be sold before maturity but are *not actively traded* like FVTPL\n",
        "    securities.\n",
        "-   Experience fair value changes that are recorded in **Accumulated\n",
        "    Other Comprehensive Income (AOCI)** instead of directly impacting\n",
        "    net income.\n",
        "-   Upon sale, unrealized gains/losses from AOCI are transferred to Net\n",
        "    Income.\n",
        "\n",
        "Assume that the bank now purchased a Treasury bond at a fair value of\n",
        "\\$30,000. The bank may sell the bond before it matures, and hence\n",
        "classify it as a FVOCI asset on the banking book."
      ],
      "id": "f36b248a-f1d2-4845-afbb-a80f33d195b3"
    },
    {
      "cell_type": "code",
      "execution_count": 11,
      "metadata": {},
      "outputs": [
        {
          "output_type": "display_data",
          "metadata": {},
          "data": {
            "text/html": [
              "<pre style=\"white-space:pre;overflow-x:auto;line-height:normal;font-family:Menlo,'DejaVu Sans Mono',consolas,'Courier New',monospace\"><span style=\"font-style: italic\">                      Balance Sheet                       </span>\n",
              " ──────────────────────────────────────────────────────── \n",
              " <span style=\"font-weight: bold\"> Assets                                   </span> <span style=\"color: #008000; text-decoration-color: #008000; font-weight: bold\">             </span> \n",
              "    Cash and Cash Equivalents               <span style=\"color: #008000; text-decoration-color: #008000\">   $1,359.00 </span> \n",
              "    Loans and Advances                      <span style=\"color: #008000; text-decoration-color: #008000\">  $80,000.00 </span> \n",
              "    Investment Securities                   <span style=\"color: #008000; text-decoration-color: #008000\">  $30,000.00 </span> \n",
              "      Investment Securities at FVOCI        <span style=\"color: #008000; text-decoration-color: #008000\">  $30,000.00 </span> \n",
              " <span style=\"font-weight: bold\"> Total assets                             </span> <span style=\"color: #008000; text-decoration-color: #008000; font-weight: bold\"> $111,359.00 </span> \n",
              " ──────────────────────────────────────────────────────── \n",
              " <span style=\"font-weight: bold\"> Liabilities                              </span> <span style=\"color: #008000; text-decoration-color: #008000; font-weight: bold\">             </span> \n",
              "    Deposits and Other Public Borrowings    <span style=\"color: #008000; text-decoration-color: #008000\"> $100,000.00 </span> \n",
              "      Deposits                              <span style=\"color: #008000; text-decoration-color: #008000\"> $100,000.00 </span> \n",
              " <span style=\"font-weight: bold\"> Total liabilities                        </span> <span style=\"color: #008000; text-decoration-color: #008000; font-weight: bold\"> $100,000.00 </span> \n",
              " ──────────────────────────────────────────────────────── \n",
              " <span style=\"font-weight: bold\"> Net assets                               </span> <span style=\"color: #008000; text-decoration-color: #008000; font-weight: bold\">  $11,359.00 </span> \n",
              " ──────────────────────────────────────────────────────── \n",
              " <span style=\"font-weight: bold\"> Shareholders' equity                     </span> <span style=\"color: #008000; text-decoration-color: #008000; font-weight: bold\">             </span> \n",
              "    Shareholders' Equity                    <span style=\"color: #008000; text-decoration-color: #008000\">  $10,000.00 </span> \n",
              "    Retained Earnings                       <span style=\"color: #008000; text-decoration-color: #008000\">   $1,359.00 </span> \n",
              " <span style=\"font-weight: bold\"> Total shareholders' equity               </span> <span style=\"color: #008000; text-decoration-color: #008000; font-weight: bold\">  $11,359.00 </span> \n",
              " ──────────────────────────────────────────────────────── \n",
              "<span style=\"color: #7f7f7f; text-decoration-color: #7f7f7f; font-style: italic\">                                          Date: 2025-02-23</span>\n",
              "</pre>"
            ]
          }
        }
      ],
      "source": [],
      "id": "1dd025ed"
    },
    {
      "cell_type": "markdown",
      "metadata": {},
      "source": [
        "The fair value of the security is recorded on the balance sheet under\n",
        "the *Investment Securities at FVOCI* account.\n",
        "\n",
        "### FVOCI security marking to market\n",
        "\n",
        "#### Unrealized gain\n",
        "\n",
        "Similarly, the next day, we need to mark to market the FVOCI security to\n",
        "ensure its fair value is correctly accounted for. Suppose that its\n",
        "market value went up by 5% (\\$600 = \\$30,000\\*5%).\n",
        "\n",
        "It is important to note that FVOCI security’s fair value changes affect\n",
        "AOCI, an equity account. It does not affect Income Statement P&L untill\n",
        "it’s eventually sold."
      ],
      "id": "d35f177b-4f9e-456d-8dff-4ad4abc153e6"
    },
    {
      "cell_type": "code",
      "execution_count": 12,
      "metadata": {},
      "outputs": [
        {
          "output_type": "display_data",
          "metadata": {},
          "data": {
            "text/html": [
              "<pre style=\"white-space:pre;overflow-x:auto;line-height:normal;font-family:Menlo,'DejaVu Sans Mono',consolas,'Courier New',monospace\"><span style=\"font-style: italic\">              Income Statement               </span>\n",
              " ─────────────────────────────────────────── \n",
              " <span style=\"font-weight: bold\"> Income                        </span> <span style=\"color: #008000; text-decoration-color: #008000; font-weight: bold\"> $1,459.00 </span> \n",
              "    Interest Income              <span style=\"color: #008000; text-decoration-color: #008000\">   $800.00 </span> \n",
              "    Trading Income (FVTPL)       <span style=\"color: #008000; text-decoration-color: #008000\">   $659.00 </span> \n",
              "      Realized Trading Gain      <span style=\"color: #008000; text-decoration-color: #008000\"> $1,159.00 </span> \n",
              "      Realized Trading Loss      <span style=\"color: #008000; text-decoration-color: #008000\">   $500.00 </span> \n",
              " ─────────────────────────────────────────── \n",
              " <span style=\"font-weight: bold\"> Expense                       </span> <span style=\"color: #008000; text-decoration-color: #008000; font-weight: bold\">   $100.00 </span> \n",
              "    Interest Expense             <span style=\"color: #008000; text-decoration-color: #008000\">   $100.00 </span> \n",
              " ─────────────────────────────────────────── \n",
              " <span style=\"font-weight: bold\"> Profit                        </span> <span style=\"color: #008000; text-decoration-color: #008000; font-weight: bold\"> $1,359.00 </span> \n",
              " ─────────────────────────────────────────── \n",
              "<span style=\"color: #7f7f7f; text-decoration-color: #7f7f7f; font-style: italic\">                             Date: 2025-02-24</span>\n",
              "</pre>"
            ]
          }
        },
        {
          "output_type": "stream",
          "name": "stdout",
          "text": [
            "--------------------------------------------------------------------------------"
          ]
        },
        {
          "output_type": "display_data",
          "metadata": {},
          "data": {
            "text/html": [
              "<pre style=\"white-space:pre;overflow-x:auto;line-height:normal;font-family:Menlo,'DejaVu Sans Mono',consolas,'Courier New',monospace\"><span style=\"font-style: italic\">                      Balance Sheet                       </span>\n",
              " ──────────────────────────────────────────────────────── \n",
              " <span style=\"font-weight: bold\"> Assets                                   </span> <span style=\"color: #008000; text-decoration-color: #008000; font-weight: bold\">             </span> \n",
              "    Cash and Cash Equivalents               <span style=\"color: #008000; text-decoration-color: #008000\">   $1,359.00 </span> \n",
              "    Loans and Advances                      <span style=\"color: #008000; text-decoration-color: #008000\">  $80,000.00 </span> \n",
              "    Investment Securities                   <span style=\"color: #008000; text-decoration-color: #008000\">  $30,600.00 </span> \n",
              "      Investment Securities at FVOCI        <span style=\"color: #008000; text-decoration-color: #008000\">  $30,600.00 </span> \n",
              " <span style=\"font-weight: bold\"> Total assets                             </span> <span style=\"color: #008000; text-decoration-color: #008000; font-weight: bold\"> $111,959.00 </span> \n",
              " ──────────────────────────────────────────────────────── \n",
              " <span style=\"font-weight: bold\"> Liabilities                              </span> <span style=\"color: #008000; text-decoration-color: #008000; font-weight: bold\">             </span> \n",
              "    Deposits and Other Public Borrowings    <span style=\"color: #008000; text-decoration-color: #008000\"> $100,000.00 </span> \n",
              "      Deposits                              <span style=\"color: #008000; text-decoration-color: #008000\"> $100,000.00 </span> \n",
              " <span style=\"font-weight: bold\"> Total liabilities                        </span> <span style=\"color: #008000; text-decoration-color: #008000; font-weight: bold\"> $100,000.00 </span> \n",
              " ──────────────────────────────────────────────────────── \n",
              " <span style=\"font-weight: bold\"> Net assets                               </span> <span style=\"color: #008000; text-decoration-color: #008000; font-weight: bold\">  $11,959.00 </span> \n",
              " ──────────────────────────────────────────────────────── \n",
              " <span style=\"font-weight: bold\"> Shareholders' equity                     </span> <span style=\"color: #008000; text-decoration-color: #008000; font-weight: bold\">             </span> \n",
              "    Shareholders' Equity                    <span style=\"color: #008000; text-decoration-color: #008000\">  $10,000.00 </span> \n",
              "    Accumulated OCI                         <span style=\"color: #008000; text-decoration-color: #008000\">     $600.00 </span> \n",
              "      Unrealized OCI Gain                   <span style=\"color: #008000; text-decoration-color: #008000\">     $600.00 </span> \n",
              "    Retained Earnings                       <span style=\"color: #008000; text-decoration-color: #008000\">   $1,359.00 </span> \n",
              " <span style=\"font-weight: bold\"> Total shareholders' equity               </span> <span style=\"color: #008000; text-decoration-color: #008000; font-weight: bold\">  $11,959.00 </span> \n",
              " ──────────────────────────────────────────────────────── \n",
              "<span style=\"color: #7f7f7f; text-decoration-color: #7f7f7f; font-style: italic\">                                          Date: 2025-02-24</span>\n",
              "</pre>"
            ]
          }
        }
      ],
      "source": [],
      "id": "dbbd0933"
    },
    {
      "cell_type": "markdown",
      "metadata": {},
      "source": [
        "> **Important**\n",
        ">\n",
        "> Because FVOCI’s (even unrealized) gain increases AOCI, and AOCI is\n",
        "> part of a bank’s CET1 capital, FVOCI’s fair value movement can cause\n",
        "> volatility in the bank’s regulatory capital ratios.\n",
        "\n",
        "#### Unrealized loss\n",
        "\n",
        "If the market value of the security went down by 2% (\\$612=\\$30,600\\*2%)\n",
        "the next day, we recognize this *unrealized OCI loss* of AOCI."
      ],
      "id": "43d93c53-3d1b-4354-907c-ca0eb70a42ac"
    },
    {
      "cell_type": "code",
      "execution_count": 13,
      "metadata": {},
      "outputs": [
        {
          "output_type": "display_data",
          "metadata": {},
          "data": {
            "text/html": [
              "<pre style=\"white-space:pre;overflow-x:auto;line-height:normal;font-family:Menlo,'DejaVu Sans Mono',consolas,'Courier New',monospace\"><span style=\"font-style: italic\">              Income Statement               </span>\n",
              " ─────────────────────────────────────────── \n",
              " <span style=\"font-weight: bold\"> Income                        </span> <span style=\"color: #008000; text-decoration-color: #008000; font-weight: bold\"> $1,459.00 </span> \n",
              "    Interest Income              <span style=\"color: #008000; text-decoration-color: #008000\">   $800.00 </span> \n",
              "    Trading Income (FVTPL)       <span style=\"color: #008000; text-decoration-color: #008000\">   $659.00 </span> \n",
              "      Realized Trading Gain      <span style=\"color: #008000; text-decoration-color: #008000\"> $1,159.00 </span> \n",
              "      Realized Trading Loss      <span style=\"color: #008000; text-decoration-color: #008000\">   $500.00 </span> \n",
              " ─────────────────────────────────────────── \n",
              " <span style=\"font-weight: bold\"> Expense                       </span> <span style=\"color: #008000; text-decoration-color: #008000; font-weight: bold\">   $100.00 </span> \n",
              "    Interest Expense             <span style=\"color: #008000; text-decoration-color: #008000\">   $100.00 </span> \n",
              " ─────────────────────────────────────────── \n",
              " <span style=\"font-weight: bold\"> Profit                        </span> <span style=\"color: #008000; text-decoration-color: #008000; font-weight: bold\"> $1,359.00 </span> \n",
              " ─────────────────────────────────────────── \n",
              "<span style=\"color: #7f7f7f; text-decoration-color: #7f7f7f; font-style: italic\">                             Date: 2025-02-25</span>\n",
              "</pre>"
            ]
          }
        },
        {
          "output_type": "stream",
          "name": "stdout",
          "text": [
            "--------------------------------------------------------------------------------"
          ]
        },
        {
          "output_type": "display_data",
          "metadata": {},
          "data": {
            "text/html": [
              "<pre style=\"white-space:pre;overflow-x:auto;line-height:normal;font-family:Menlo,'DejaVu Sans Mono',consolas,'Courier New',monospace\"><span style=\"font-style: italic\">                      Balance Sheet                       </span>\n",
              " ──────────────────────────────────────────────────────── \n",
              " <span style=\"font-weight: bold\"> Assets                                   </span> <span style=\"color: #008000; text-decoration-color: #008000; font-weight: bold\">             </span> \n",
              "    Cash and Cash Equivalents               <span style=\"color: #008000; text-decoration-color: #008000\">   $1,359.00 </span> \n",
              "    Loans and Advances                      <span style=\"color: #008000; text-decoration-color: #008000\">  $80,000.00 </span> \n",
              "    Investment Securities                   <span style=\"color: #008000; text-decoration-color: #008000\">  $29,988.00 </span> \n",
              "      Investment Securities at FVOCI        <span style=\"color: #008000; text-decoration-color: #008000\">  $29,988.00 </span> \n",
              " <span style=\"font-weight: bold\"> Total assets                             </span> <span style=\"color: #008000; text-decoration-color: #008000; font-weight: bold\"> $111,347.00 </span> \n",
              " ──────────────────────────────────────────────────────── \n",
              " <span style=\"font-weight: bold\"> Liabilities                              </span> <span style=\"color: #008000; text-decoration-color: #008000; font-weight: bold\">             </span> \n",
              "    Deposits and Other Public Borrowings    <span style=\"color: #008000; text-decoration-color: #008000\"> $100,000.00 </span> \n",
              "      Deposits                              <span style=\"color: #008000; text-decoration-color: #008000\"> $100,000.00 </span> \n",
              " <span style=\"font-weight: bold\"> Total liabilities                        </span> <span style=\"color: #008000; text-decoration-color: #008000; font-weight: bold\"> $100,000.00 </span> \n",
              " ──────────────────────────────────────────────────────── \n",
              " <span style=\"font-weight: bold\"> Net assets                               </span> <span style=\"color: #008000; text-decoration-color: #008000; font-weight: bold\">  $11,347.00 </span> \n",
              " ──────────────────────────────────────────────────────── \n",
              " <span style=\"font-weight: bold\"> Shareholders' equity                     </span> <span style=\"color: #008000; text-decoration-color: #008000; font-weight: bold\">             </span> \n",
              "    Shareholders' Equity                    <span style=\"color: #008000; text-decoration-color: #008000\">  $10,000.00 </span> \n",
              "    Accumulated OCI                         <span style=\"color: #008000; text-decoration-color: #008000\"> </span><span style=\"color: #800000; text-decoration-color: #800000\">   ($12.00)</span><span style=\"color: #008000; text-decoration-color: #008000\"> </span> \n",
              "      Unrealized OCI Gain                   <span style=\"color: #008000; text-decoration-color: #008000\">     $600.00 </span> \n",
              "      Unrealized OCI Loss                   <span style=\"color: #008000; text-decoration-color: #008000\">     $612.00 </span> \n",
              "    Retained Earnings                       <span style=\"color: #008000; text-decoration-color: #008000\">   $1,359.00 </span> \n",
              " <span style=\"font-weight: bold\"> Total shareholders' equity               </span> <span style=\"color: #008000; text-decoration-color: #008000; font-weight: bold\">  $11,347.00 </span> \n",
              " ──────────────────────────────────────────────────────── \n",
              "<span style=\"color: #7f7f7f; text-decoration-color: #7f7f7f; font-style: italic\">                                          Date: 2025-02-25</span>\n",
              "</pre>"
            ]
          }
        }
      ],
      "source": [],
      "id": "f861611d"
    },
    {
      "cell_type": "markdown",
      "metadata": {},
      "source": [
        "### FVOCI security sale\n",
        "\n",
        "The next day, if the bank sold the FVOCI security at the prevailing\n",
        "market price (assumed 2% down), we recognize *realized OCI loss*.\n",
        "\n",
        "Tracking the AOCI gain/loss of this particular FVOCI security,\n",
        "\n",
        "1.  On day 1, we had a gain of \\$600.\n",
        "2.  On day 2, we had a loss of \\$612.\n",
        "3.  On day 3, we had a loss of \\$599.76.\n",
        "\n",
        "The total net loss of this security is therefore \\$611.76.\n",
        "\n",
        "Now that the FVOCI security is sold, its gain/loss is moved from AOCI to\n",
        "Income Statement as *Investment Income (FVOCI)*. When P&L accounts of\n",
        "income statement are closed, the net gain/loss of Investment Income\n",
        "(FVOCI) changes the bank’s retained earnings."
      ],
      "id": "fffa9e89-71a6-42e7-b136-ed9b0507311b"
    },
    {
      "cell_type": "code",
      "execution_count": 14,
      "metadata": {},
      "outputs": [
        {
          "output_type": "display_data",
          "metadata": {},
          "data": {
            "text/html": [
              "<pre style=\"white-space:pre;overflow-x:auto;line-height:normal;font-family:Menlo,'DejaVu Sans Mono',consolas,'Courier New',monospace\"><span style=\"font-style: italic\">              Income Statement               </span>\n",
              " ─────────────────────────────────────────── \n",
              " <span style=\"font-weight: bold\"> Income                        </span> <span style=\"color: #008000; text-decoration-color: #008000; font-weight: bold\">   $847.24 </span> \n",
              "    Interest Income              <span style=\"color: #008000; text-decoration-color: #008000\">   $800.00 </span> \n",
              "    Trading Income (FVTPL)       <span style=\"color: #008000; text-decoration-color: #008000\">   $659.00 </span> \n",
              "      Realized Trading Gain      <span style=\"color: #008000; text-decoration-color: #008000\"> $1,159.00 </span> \n",
              "      Realized Trading Loss      <span style=\"color: #008000; text-decoration-color: #008000\">   $500.00 </span> \n",
              "    Investment Income (FVOCI)    <span style=\"color: #008000; text-decoration-color: #008000\"> </span><span style=\"color: #800000; text-decoration-color: #800000\">($611.76)</span><span style=\"color: #008000; text-decoration-color: #008000\"> </span> \n",
              "      Realized OCI Gain          <span style=\"color: #008000; text-decoration-color: #008000\">   $600.00 </span> \n",
              "      Realized OCI Loss          <span style=\"color: #008000; text-decoration-color: #008000\"> $1,211.76 </span> \n",
              " ─────────────────────────────────────────── \n",
              " <span style=\"font-weight: bold\"> Expense                       </span> <span style=\"color: #008000; text-decoration-color: #008000; font-weight: bold\">   $100.00 </span> \n",
              "    Interest Expense             <span style=\"color: #008000; text-decoration-color: #008000\">   $100.00 </span> \n",
              " ─────────────────────────────────────────── \n",
              " <span style=\"font-weight: bold\"> Profit                        </span> <span style=\"color: #008000; text-decoration-color: #008000; font-weight: bold\">   $747.24 </span> \n",
              " ─────────────────────────────────────────── \n",
              "<span style=\"color: #7f7f7f; text-decoration-color: #7f7f7f; font-style: italic\">                             Date: 2025-02-26</span>\n",
              "</pre>"
            ]
          }
        },
        {
          "output_type": "stream",
          "name": "stdout",
          "text": [
            "--------------------------------------------------------------------------------"
          ]
        },
        {
          "output_type": "display_data",
          "metadata": {},
          "data": {
            "text/html": [
              "<pre style=\"white-space:pre;overflow-x:auto;line-height:normal;font-family:Menlo,'DejaVu Sans Mono',consolas,'Courier New',monospace\"><span style=\"font-style: italic\">                      Balance Sheet                       </span>\n",
              " ──────────────────────────────────────────────────────── \n",
              " <span style=\"font-weight: bold\"> Assets                                   </span> <span style=\"color: #008000; text-decoration-color: #008000; font-weight: bold\">             </span> \n",
              "    Cash and Cash Equivalents               <span style=\"color: #008000; text-decoration-color: #008000\">  $30,747.24 </span> \n",
              "    Loans and Advances                      <span style=\"color: #008000; text-decoration-color: #008000\">  $80,000.00 </span> \n",
              " <span style=\"font-weight: bold\"> Total assets                             </span> <span style=\"color: #008000; text-decoration-color: #008000; font-weight: bold\"> $110,747.24 </span> \n",
              " ──────────────────────────────────────────────────────── \n",
              " <span style=\"font-weight: bold\"> Liabilities                              </span> <span style=\"color: #008000; text-decoration-color: #008000; font-weight: bold\">             </span> \n",
              "    Deposits and Other Public Borrowings    <span style=\"color: #008000; text-decoration-color: #008000\"> $100,000.00 </span> \n",
              "      Deposits                              <span style=\"color: #008000; text-decoration-color: #008000\"> $100,000.00 </span> \n",
              " <span style=\"font-weight: bold\"> Total liabilities                        </span> <span style=\"color: #008000; text-decoration-color: #008000; font-weight: bold\"> $100,000.00 </span> \n",
              " ──────────────────────────────────────────────────────── \n",
              " <span style=\"font-weight: bold\"> Net assets                               </span> <span style=\"color: #008000; text-decoration-color: #008000; font-weight: bold\">  $10,747.24 </span> \n",
              " ──────────────────────────────────────────────────────── \n",
              " <span style=\"font-weight: bold\"> Shareholders' equity                     </span> <span style=\"color: #008000; text-decoration-color: #008000; font-weight: bold\">             </span> \n",
              "    Shareholders' Equity                    <span style=\"color: #008000; text-decoration-color: #008000\">  $10,000.00 </span> \n",
              "    Retained Earnings                       <span style=\"color: #008000; text-decoration-color: #008000\">     $747.24 </span> \n",
              " <span style=\"font-weight: bold\"> Total shareholders' equity               </span> <span style=\"color: #008000; text-decoration-color: #008000; font-weight: bold\">  $10,747.24 </span> \n",
              " ──────────────────────────────────────────────────────── \n",
              "<span style=\"color: #7f7f7f; text-decoration-color: #7f7f7f; font-style: italic\">                                          Date: 2025-02-26</span>\n",
              "</pre>"
            ]
          }
        }
      ],
      "source": [],
      "id": "84d655c1"
    },
    {
      "cell_type": "markdown",
      "metadata": {},
      "source": [
        "## Short summary\n",
        "\n",
        "As shown above, at the moment BRMS can provide a flexible accounting\n",
        "framework to address basic banking transactions and non-transactions.\n",
        "This provides the foundation for scaling up. Next, I will implement\n",
        "various instruments and pricing mechanisms. With the implementation of\n",
        "scenario simulation, it will then be capable of automated accounting and\n",
        "financial performance monitoring."
      ],
      "id": "4247c640-7a52-4af6-9e0c-30e5fcb026f2"
    }
  ],
  "nbformat": 4,
  "nbformat_minor": 5,
  "metadata": {
    "kernelspec": {
      "name": "python3",
      "display_name": "Python 3 (ipykernel)",
      "language": "python",
      "path": "C:Gao"
    },
    "language_info": {
      "name": "python",
      "codemirror_mode": {
        "name": "ipython",
        "version": "3"
      },
      "file_extension": ".py",
      "mimetype": "text/x-python",
      "nbconvert_exporter": "python",
      "pygments_lexer": "ipython3",
      "version": "3.12.4"
    }
  }
}